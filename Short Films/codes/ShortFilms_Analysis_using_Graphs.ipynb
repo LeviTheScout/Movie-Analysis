{
  "nbformat": 4,
  "nbformat_minor": 0,
  "metadata": {
    "colab": {
      "provenance": []
    },
    "kernelspec": {
      "name": "python3",
      "display_name": "Python 3"
    },
    "language_info": {
      "name": "python"
    }
  },
  "cells": [
    {
      "cell_type": "code",
      "execution_count": null,
      "metadata": {
        "id": "YhKJ_F1k_k5d"
      },
      "outputs": [],
      "source": [
        "import pandas as pd\n"
      ]
    },
    {
      "cell_type": "code",
      "source": [
        "df_shorts = pd.read_csv('/content/Short Films/Shortfilm Data/Shortfilmnames.csv')"
      ],
      "metadata": {
        "id": "14PTPVqv_vZe"
      },
      "execution_count": null,
      "outputs": []
    },
    {
      "cell_type": "code",
      "source": [
        "df1 = pd.read_csv('/content/Short Films/Shortfilm Data/Final Short Films Data/Kheer.csv')\n",
        "df2 = pd.read_csv('/content/Short Films/Shortfilm Data/Final Short Films Data/Interior Cafe Night.csv')\n",
        "df3 = pd.read_csv('/content/Short Films/Shortfilm Data/Final Short Films Data/Taandav.csv')\n",
        "df4 = pd.read_csv('/content/Short Films/Shortfilm Data/Final Short Films Data/Delivery Girl.csv')\n",
        "df5 = pd.read_csv('/content/Short Films/Shortfilm Data/Final Short Films Data/Ahalya.csv')\n",
        "df6 = pd.read_csv('/content/Short Films/Shortfilm Data/Final Short Films Data/Kriti.csv')\n",
        "df7 = pd.read_csv('/content/Short Films/Shortfilm Data/Final Short Films Data/Aai Shapat.csv')\n",
        "df8 = pd.read_csv('/content/Short Films/Shortfilm Data/Final Short Films Data/Chhuri.csv')\n",
        "df9 = pd.read_csv('/content/Short Films/Shortfilm Data/Final Short Films Data/Chutney.csv')\n",
        "df10 = pd.read_csv('/content/Short Films/Shortfilm Data/Final Short Films Data/Juice.csv')\n",
        "df11 = pd.read_csv('/content/Short Films/Shortfilm Data/Final Short Films Data/Pencil Box.csv')\n",
        "df12 = pd.read_csv('/content/Short Films/Shortfilm Data/Final Short Films Data/Plus Minus.csv')\n",
        "df13 = pd.read_csv('/content/Short Films/Shortfilm Data/Final Short Films Data/The School Bag.csv')"
      ],
      "metadata": {
        "id": "7rKU6nU0ASID"
      },
      "execution_count": null,
      "outputs": []
    },
    {
      "cell_type": "code",
      "source": [
        "dataframes = [df1, df2, df3, df4, df5, df6, df7, df8, df9, df10, df11, df12, df13]\n",
        "list_of_lists = []\n",
        "\n",
        "for df in dataframes:\n",
        "    emotions_list = []\n",
        "    for index, row in df.iterrows():\n",
        "        emotions = row['Emotion'].split(', ')\n",
        "        emotions_list.extend(emotions)\n",
        "    list_of_lists.append(emotions_list)"
      ],
      "metadata": {
        "id": "7Ji6X_OPAbyL"
      },
      "execution_count": null,
      "outputs": []
    },
    {
      "cell_type": "code",
      "source": [
        "emotion_list = []\n",
        "emotion_list.append(list(df1.PredictedEmotionBGM))\n",
        "emotion_list.append(list(df2.PredictedEmotionBGM))\n",
        "emotion_list.append(list(df3.PredictedEmotionBGM))\n",
        "emotion_list.append(list(df4.PredictedEmotionBGM))\n",
        "emotion_list.append(list(df5.PredictedEmotionBGM))\n",
        "emotion_list.append(list(df6.PredictedEmotionBGM))\n",
        "emotion_list.append(list(df7.PredictedEmotionBGM))\n",
        "emotion_list.append(list(df8.PredictedEmotionBGM))\n",
        "emotion_list.append(list(df9.PredictedEmotionBGM))\n",
        "emotion_list.append(list(df10.PredictedEmotionBGM))\n",
        "emotion_list.append(list(df11.PredictedEmotionBGM))\n",
        "emotion_list.append(list(df12.PredictedEmotionBGM))\n",
        "emotion_list.append(list(df13.PredictedEmotionBGM))"
      ],
      "metadata": {
        "id": "rjfJ_sm7AxA_"
      },
      "execution_count": null,
      "outputs": []
    },
    {
      "cell_type": "code",
      "source": [
        "emotion_listv = []\n",
        "emotion_listv.append(list(df1['Top Dominant Emotion 1']))\n",
        "emotion_listv.append(list(df2['Top Dominant Emotion 1']))\n",
        "emotion_listv.append(list(df3['Top Dominant Emotion 1']))\n",
        "emotion_listv.append(list(df4['Top Dominant Emotion 1']))\n",
        "emotion_listv.append(list(df5['Top Dominant Emotion 1']))\n",
        "emotion_listv.append(list(df6['Top Dominant Emotion 1']))\n",
        "emotion_listv.append(list(df7['Top Dominant Emotion 1']))\n",
        "emotion_listv.append(list(df8['Top Dominant Emotion 1']))\n",
        "emotion_listv.append(list(df9['Top Dominant Emotion 1']))\n",
        "emotion_listv.append(list(df10['Top Dominant Emotion 1']))\n",
        "emotion_listv.append(list(df11['Top Dominant Emotion 1']))\n",
        "emotion_listv.append(list(df12['Top Dominant Emotion 1']))\n",
        "emotion_listv.append(list(df13['Top Dominant Emotion 1']))"
      ],
      "metadata": {
        "id": "b8wD2KNeAz-i"
      },
      "execution_count": null,
      "outputs": []
    },
    {
      "cell_type": "code",
      "source": [
        "df_shorts['BGM'] = emotion_list\n",
        "df_shorts['Video'] = emotion_listv\n",
        "df_shorts['ViewerEmotion'] = list_of_lists"
      ],
      "metadata": {
        "id": "Bw-LC0s6A2Sj"
      },
      "execution_count": null,
      "outputs": []
    },
    {
      "cell_type": "code",
      "source": [
        "df_shorts.head()"
      ],
      "metadata": {
        "id": "HCA5Fbq2A_0_"
      },
      "execution_count": null,
      "outputs": []
    },
    {
      "cell_type": "code",
      "source": [
        "from collections import Counter\n",
        "def emotion_countB(df):\n",
        "  most5=[]\n",
        "  emopair = []\n",
        "  for i in range(len(df)):\n",
        "    predicted_emotions = df['BGM'][i]\n",
        "    # Count the occurrences of consecutive emotion pairs\n",
        "    emotion_counts = Counter(zip(predicted_emotions, predicted_emotions[1:]))\n",
        "    emopair.append(dict(emotion_counts))\n",
        "    most_common_emotion_pairs = emotion_counts.most_common(5)\n",
        "    most5.append(most_common_emotion_pairs)\n",
        "  df['emopairBGM'] = emopair\n",
        "  #df['most occuring 5 pairs'] = most5\n",
        "  return df\n",
        "\n",
        "def emotion_countV(df):\n",
        "  most5=[]\n",
        "  emopair = []\n",
        "  for i in range(len(df)):\n",
        "    predicted_emotions = df['Video'][i]\n",
        "    # Count the occurrences of consecutive emotion pairs\n",
        "    emotion_counts = Counter(zip(predicted_emotions, predicted_emotions[1:]))\n",
        "    emopair.append(dict(emotion_counts))\n",
        "    most_common_emotion_pairs = emotion_counts.most_common(5)\n",
        "    most5.append(most_common_emotion_pairs)\n",
        "  df['emopairVideo'] = emopair\n",
        "  #df['most occuring 5 pairs'] = most5\n",
        "  return df\n",
        "\n",
        "def emotion_countView(df):\n",
        "  most5=[]\n",
        "  emopair = []\n",
        "  for i in range(len(df)):\n",
        "    predicted_emotions = df['ViewerEmotion'][i]\n",
        "    # Count the occurrences of consecutive emotion pairs\n",
        "    emotion_counts = Counter(zip(predicted_emotions, predicted_emotions[1:]))\n",
        "    emopair.append(dict(emotion_counts))\n",
        "    most_common_emotion_pairs = emotion_counts.most_common(5)\n",
        "    most5.append(most_common_emotion_pairs)\n",
        "  df['emopairViewer'] = emopair\n",
        "  #df['most occuring 5 pairs'] = most5\n",
        "  return df"
      ],
      "metadata": {
        "id": "vyRs-Z9IBDnn"
      },
      "execution_count": null,
      "outputs": []
    },
    {
      "cell_type": "code",
      "source": [
        "emotion_countB(df_shorts).head(2)\n",
        "emotion_countV(df_shorts).head(2)\n",
        "emotion_countView(df_shorts).head(2)\n"
      ],
      "metadata": {
        "id": "NFQa-xyeBEur"
      },
      "execution_count": null,
      "outputs": []
    },
    {
      "cell_type": "code",
      "source": [
        "import matplotlib.pyplot as plt\n",
        "import numpy as np\n",
        "\n",
        "def visualize_emotion_relations(df, film_name):\n",
        "    # Count the occurrences of each frame emotion (considering duplicates as one)\n",
        "    frame_emotions = set()\n",
        "    frame_emotion_counts = {}\n",
        "    for emotions in df['FrameEmotion'].str.split(','):\n",
        "        for emotion in emotions:\n",
        "            frame_emotions.add(emotion.strip())\n",
        "            frame_emotion_counts[emotion.strip()] = frame_emotion_counts.get(emotion.strip(), 0) + 1\n",
        "\n",
        "    # Count the occurrences of each emotion (considering duplicates as one)\n",
        "    emotions = set()\n",
        "    emotion_counts = {}\n",
        "    for emotions_list in df['Emotion'].str.split(','):\n",
        "        for emotion in emotions_list:\n",
        "            emotions.add(emotion.strip())\n",
        "            emotion_counts[emotion.strip()] = emotion_counts.get(emotion.strip(), 0) + 1\n",
        "\n",
        "    # Count the occurrences of each predicted emotion BGM\n",
        "    bgm_counts = df['PredictedEmotionBGM'].value_counts()\n",
        "\n",
        "    # Convert sets to lists for plotting\n",
        "    frame_emotions = list(frame_emotions)\n",
        "    emotions = list(emotions)\n",
        "\n",
        "    # Creating figure and axes\n",
        "    fig, axes = plt.subplots(nrows=1, ncols=3, figsize=(15, 5))\n",
        "\n",
        "    # Plotting emotions\n",
        "    counts_emotions = [emotion_counts[emotion] for emotion in emotions]\n",
        "    colors_emotions = plt.cm.tab20(np.arange(len(emotions)))\n",
        "    axes[0].bar(emotions, counts_emotions, color=colors_emotions)\n",
        "    axes[0].set_xlabel('Emotion')\n",
        "    axes[0].set_ylabel('Count')\n",
        "    axes[0].set_title('Viewer Emotion')\n",
        "\n",
        "    # Plotting frame emotion\n",
        "    counts_frame_emotions = [frame_emotion_counts[emotion] for emotion in frame_emotions]\n",
        "    colors_frame_emotions = plt.cm.tab20b(np.arange(len(frame_emotions)))\n",
        "    axes[1].bar(frame_emotions, counts_frame_emotions, color=colors_frame_emotions)\n",
        "    axes[1].set_xlabel('Emotion')\n",
        "    axes[1].set_ylabel('Count')\n",
        "    axes[1].set_title('Frame Emotion')\n",
        "\n",
        "    # Plotting BGM\n",
        "    bgms = bgm_counts.index\n",
        "    counts_bgms = bgm_counts.values\n",
        "    colors_bgms = plt.cm.tab20c(np.arange(len(bgms)))\n",
        "    axes[2].bar(bgms, counts_bgms, color=colors_bgms)\n",
        "    axes[2].set_xlabel('Emotion')\n",
        "    axes[2].set_ylabel('Count')\n",
        "    axes[2].set_title('Predicted Emotion using BGM')\n",
        "\n",
        "    # Adding main title\n",
        "    fig.suptitle(film_name, fontsize=16)\n",
        "    plt.savefig(film_name + '.png')\n",
        "    # Adjusting layout\n",
        "    plt.tight_layout()\n",
        "    plt.show()\n"
      ],
      "metadata": {
        "id": "Tr8l14gJBJI3"
      },
      "execution_count": null,
      "outputs": []
    },
    {
      "cell_type": "code",
      "source": [
        "visualize_emotion_relations(df1, 'Kheer')"
      ],
      "metadata": {
        "id": "CBUbQe5gBUfs"
      },
      "execution_count": null,
      "outputs": []
    },
    {
      "cell_type": "code",
      "source": [
        "import pandas as pd\n",
        "import matplotlib.pyplot as plt\n",
        "\n",
        "def plot_stacked_bar_chart(df):\n",
        "    # Create a copy of the DataFrame with selected columns\n",
        "    df_selected = df[['StartTime', 'EndTime', 'Emotion', 'PredictedEmotionBGM', 'Top Dominant Emotion 1']].copy()\n",
        "\n",
        "    # Create a dictionary to map emotions to colors\n",
        "    emotion_colors = {}\n",
        "\n",
        "    # Create a list of unique emotions for each column\n",
        "    emotions_emotion = df_selected['Emotion'].str.lower().str.split(',\\s*').explode().unique()\n",
        "    emotions_bgm = df_selected['PredictedEmotionBGM'].str.lower().unique()\n",
        "    emotions_dom1 = df_selected['Top Dominant Emotion 1'].str.lower().unique()\n",
        "\n",
        "    # Assign a unique color to each emotion category\n",
        "    color_palette_emotion = plt.cm.get_cmap('tab20', len(emotions_emotion))\n",
        "    color_palette_bgm = plt.cm.get_cmap('tab20b', len(emotions_bgm))\n",
        "    color_palette_dom1 = plt.cm.get_cmap('tab20b', len(emotions_dom1))\n",
        "\n",
        "    for i, emotion in enumerate(emotions_emotion):\n",
        "        emotion_colors[emotion] = color_palette_emotion(i)\n",
        "\n",
        "    for i, emotion in enumerate(emotions_bgm):\n",
        "        if emotion not in emotion_colors:\n",
        "            emotion_colors[emotion] = color_palette_bgm(i)\n",
        "\n",
        "    for i, emotion in enumerate(emotions_dom1):\n",
        "        if emotion not in emotion_colors:\n",
        "            emotion_colors[emotion] = color_palette_dom1(i)\n",
        "\n",
        "    # Create a list to store the bar heights for each emotion category\n",
        "    bar_heights_emotion = []\n",
        "    bar_heights_bgm = []\n",
        "    bar_heights_dom1 = []\n",
        "\n",
        "    # Iterate over the rows of the DataFrame and calculate the bar heights\n",
        "    for _, row in df_selected.iterrows():\n",
        "        start_time = row['StartTime']\n",
        "        end_time = row['EndTime']\n",
        "        emotions = row['Emotion'].lower().split(', ')\n",
        "        emotion_bgm = row['PredictedEmotionBGM'].lower()\n",
        "        emotion_dom1 = row['Top Dominant Emotion 1'].lower()\n",
        "        duration = end_time - start_time\n",
        "\n",
        "        for emotion in emotions:\n",
        "            bar_heights_emotion.append((emotion, start_time, end_time))\n",
        "\n",
        "        bar_heights_bgm.append((emotion_bgm, start_time, end_time))\n",
        "        bar_heights_dom1.append((emotion_dom1, start_time, end_time))\n",
        "\n",
        "    # Create a figure and axis objects\n",
        "    fig, ax = plt.subplots(figsize=(12, 8))\n",
        "\n",
        "    # Plot the stacked bars for Emotion column\n",
        "    for emotion, start_time, end_time in bar_heights_emotion:\n",
        "        ax.barh('Emotion', end_time - start_time, left=start_time, color=emotion_colors[emotion])\n",
        "\n",
        "    # Plot the stacked bars for PredictedEmotionBGM column\n",
        "    for emotion, start_time, end_time in bar_heights_bgm:\n",
        "        ax.barh('PredictedEmotionBGM', end_time - start_time, left=start_time, color=emotion_colors[emotion])\n",
        "\n",
        "    # Plot the stacked bars for Top Dominant Emotion 1 column\n",
        "    for emotion, start_time, end_time in bar_heights_dom1:\n",
        "        ax.barh('Top Dominant Emotion 1', end_time - start_time, left=start_time, color=emotion_colors[emotion])\n",
        "\n",
        "    # Set y-axis tick labels\n",
        "    ax.set_yticks([0, 1, 2])\n",
        "    ax.set_yticklabels(['Viewer Emotion', 'PredictedEmotionBGM', 'PredictedEmotionVideo'], fontsize=15)\n",
        "\n",
        "    # Set x-axis label and limits\n",
        "    ax.set_xlabel('Time(in second)', fontsize=15)\n",
        "    #ax.set_xlim(df_selected['EndTime'].min(), df_selected['EndTime'].max())\n",
        "\n",
        "    # Create legend outside the graph\n",
        "    handles = [plt.Rectangle((0, 0), 1, 1, color=emotion_colors[emotion]) for emotion in emotion_colors]\n",
        "    labels = [emotion.capitalize() for emotion in emotion_colors]\n",
        "    plt.legend(handles, labels, loc='center left', bbox_to_anchor=(1, 0.5), title='Emotions')\n",
        "\n",
        "    # Show the plot\n",
        "    plt.tight_layout()\n",
        "    plt.show()\n",
        "\n",
        "# Example usage\n",
        "\n"
      ],
      "metadata": {
        "id": "MLLBzK8aBVJQ"
      },
      "execution_count": null,
      "outputs": []
    }
  ]
}