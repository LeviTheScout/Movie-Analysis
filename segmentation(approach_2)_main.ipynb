{
  "nbformat": 4,
  "nbformat_minor": 0,
  "metadata": {
    "colab": {
      "provenance": []
    },
    "kernelspec": {
      "name": "python3",
      "display_name": "Python 3"
    },
    "language_info": {
      "name": "python"
    }
  },
  "cells": [
    {
      "cell_type": "code",
      "source": [
        "from google.colab import drive\n",
        "drive.mount('/content/drive')"
      ],
      "metadata": {
        "id": "cyF2pa17Djqo",
        "outputId": "7177c6b4-cb4c-45c3-d63a-ae728ca07d1f",
        "colab": {
          "base_uri": "https://localhost:8080/"
        }
      },
      "execution_count": null,
      "outputs": [
        {
          "output_type": "stream",
          "name": "stdout",
          "text": [
            "Mounted at /content/drive\n"
          ]
        }
      ]
    },
    {
      "cell_type": "markdown",
      "source": [
        "Approach 2\n",
        "**Segmentation of Dialogue based on 110 scenes per movies**"
      ],
      "metadata": {
        "id": "jpsoe-wm-BrL"
      }
    },
    {
      "cell_type": "code",
      "source": [
        "import pandas as pd"
      ],
      "metadata": {
        "id": "RMW6ZrzrstCM"
      },
      "execution_count": null,
      "outputs": []
    },
    {
      "cell_type": "markdown",
      "source": [
        "For Top 30 movies"
      ],
      "metadata": {
        "id": "jtRH_CYb-MDk"
      }
    },
    {
      "cell_type": "code",
      "source": [
        "df1 = pd.read_xml('/content/drive/MyDrive/Subtitles (MOVIE)/Top 30 Movies/12 Angry Men (1957) Kino Lorber UHD DV.xml')"
      ],
      "metadata": {
        "id": "dh-35czSvVBV"
      },
      "execution_count": null,
      "outputs": []
    },
    {
      "cell_type": "code",
      "source": [
        "df2 = pd.read_xml('/content/drive/MyDrive/Subtitles (MOVIE)/Top 30 Movies/Cidade.De.Deus.(aka.City.of.God).(2002).DVDRip.AC3.XviD-FtS.xml', encoding='latin1')\n"
      ],
      "metadata": {
        "id": "11UJp5UavbGt"
      },
      "execution_count": null,
      "outputs": []
    },
    {
      "cell_type": "code",
      "source": [
        "df3 = pd.read_xml('/content/drive/MyDrive/Subtitles (MOVIE)/Top 30 Movies/Fight Club BDRip [DTS-1536]_track9_[eng].xml')"
      ],
      "metadata": {
        "id": "GEYSELViviGm"
      },
      "execution_count": null,
      "outputs": []
    },
    {
      "cell_type": "code",
      "source": [
        "df4 = pd.read_xml('/content/drive/MyDrive/Subtitles (MOVIE)/Top 30 Movies/Forrest.Gump.1994.REMASTERED.1080p.BluRay.REMUX.AVC.DTS-HD.MA.TrueHD.7.1.Atmos-FGT.English.xml')"
      ],
      "metadata": {
        "id": "BRuLmv-vymgn"
      },
      "execution_count": null,
      "outputs": []
    },
    {
      "cell_type": "code",
      "source": [
        "df5 = pd.read_xml('/content/drive/MyDrive/Subtitles (MOVIE)/Top 30 Movies/Goodfellas.1990.2160p.WEB-DL.HEVC.DV.DTS-HD.MA.5.1-ViSiON.xml')"
      ],
      "metadata": {
        "id": "E0aNVuiZxyuf"
      },
      "execution_count": null,
      "outputs": []
    },
    {
      "cell_type": "code",
      "source": [
        "df6 = pd.read_xml('/content/drive/MyDrive/Subtitles (MOVIE)/Top 30 Movies/Inception.2010.1080p.10bit.BluRay.6CH.x265.HEVC-PSA.xml')\n",
        "df7 = pd.read_xml('/content/drive/MyDrive/Subtitles (MOVIE)/Top 30 Movies/Interstellar.2014.BluRay.HI.xml')\n",
        "df8 = pd.read_xml('/content/drive/MyDrive/Subtitles (MOVIE)/Top 30 Movies/JAI BHIM (2021) Tamil (Original Version) TRUE WEB-DL - ESub.xml')\n",
        "df9 = pd.read_xml('/content/drive/MyDrive/Subtitles (MOVIE)/Top 30 Movies/Life.Is.Beautiful.1997.720p.BluRay.x264-SSF.xml')\n",
        "df10 = pd.read_xml('/content/drive/MyDrive/Subtitles (MOVIE)/Top 30 Movies/One.Flew.Over.The.Cuckoos.Nest.1975.480p.BDRip.XviD.AC3.D-Z0N3.xml')\n",
        "df11 = pd.read_xml('/content/drive/MyDrive/Subtitles (MOVIE)/Top 30 Movies/Parasite.2019.720p.BluRay.x264-REGRET.xml')\n",
        "df12 = pd.read_xml('/content/drive/MyDrive/Subtitles (MOVIE)/Top 30 Movies/Pulp.Fiction.1994.NORDiC.2160p.UHD.BluRay.REMUX.DV.HDR.HEVC.DTS-HD.MA.5.1-yEET.xml')\n",
        "df13 = pd.read_xml('/content/drive/MyDrive/Subtitles (MOVIE)/Top 30 Movies/Saving.Private.Ryan.720p.HDTV.Premiere.DTS.x264-ESiR.xml', encoding='latin1')\n",
        "df14 = pd.read_xml('/content/drive/MyDrive/Subtitles (MOVIE)/Top 30 Movies/Schindlers List.xml')"
      ],
      "metadata": {
        "id": "za6q5t3Qx09H"
      },
      "execution_count": null,
      "outputs": []
    },
    {
      "cell_type": "code",
      "source": [
        "df15 = pd.read_xml('/content/drive/MyDrive/Subtitles (MOVIE)/Top 30 Movies/Se7en.1995.Remastered.720p.BluRay.x264.DTS-WiKi.eng.xml')\n",
        "df16 = pd.read_xml('/content/drive/MyDrive/Subtitles (MOVIE)/Top 30 Movies/Seven Samurai 1954 Restored 720p BRRip x264 AAC-BeLLBoY (Kingdom-Release).eng.xml')\n",
        "df17 = pd.read_xml('/content/drive/MyDrive/Subtitles (MOVIE)/Top 30 Movies/Spirited.Away.2001.1080p.BluRay.X264-AMIABLE.en.xml')\n",
        "df18 = pd.read_xml('/content/drive/MyDrive/Subtitles (MOVIE)/Top 30 Movies/Star Wars Episode IV A New Hope 1977 HDTV XvidHD 720p-NPW.xml')\n",
        "df19 = pd.read_xml('/content/drive/MyDrive/Subtitles (MOVIE)/Top 30 Movies/Star.Wars.Episode.V.The.Empire.Strikes.Back.SDH.Bluray.New.By.Ryan.xml')\n",
        "df20 = pd.read_xml('/content/drive/MyDrive/Subtitles (MOVIE)/Top 30 Movies/The Lord of the Rings - The Return of the King (2003).xml')\n",
        "df21 = pd.read_xml('/content/drive/MyDrive/Subtitles (MOVIE)/Top 30 Movies/The Shawshank Redemption.en.cc.xml')\n",
        "df22 = pd.read_xml('/content/drive/MyDrive/Subtitles (MOVIE)/Top 30 Movies/The lord of the rings The.Two.Towers.CD1[2002][Special.Extended.Edition]DvDrip[Eng]-aXXo.xml', encoding='latin1')\n",
        "df23 = pd.read_xml('/content/drive/MyDrive/Subtitles (MOVIE)/Top 30 Movies/The.Dark.Knight.2008.HYBRID.BluRay.REMUX.HEVC.DV.DTS-HD.MA.5.1-Flights.xml')\n",
        "df24 = pd.read_xml('/content/drive/MyDrive/Subtitles (MOVIE)/Top 30 Movies/The.Godfather.1972.2160p.4K.WEB.x265.10bit.AAC5.1-[YTS.MX].xml')\n",
        "df25 = pd.read_xml('/content/drive/MyDrive/Subtitles (MOVIE)/Top 30 Movies/The.Godfather.Part.II.1974.2160p.4K.WEB.x265.10bit.AAC5.1-[YTS.MX].xml')\n",
        "df26 = pd.read_xml('/content/drive/MyDrive/Subtitles (MOVIE)/Top 30 Movies/The.Good.the.Bad.and.the.Ugly.1966.2160p.BluRay.HEVC.DTS-HD.MA.5.1-EATDIK.eng.xml')\n",
        "df27 = pd.read_xml('/content/drive/MyDrive/Subtitles (MOVIE)/Top 30 Movies/The.Green.Mile.1999.720p.BluRay.x264-HDCLASSiCS.English.xml')\n",
        "df28 = pd.read_xml('/content/drive/MyDrive/Subtitles (MOVIE)/Top 30 Movies/The.Lord.of.the.Rings.The.Fellowship.of.the.Ring.(2001).Extended.Elvish.Translation.eng.xml')\n",
        "df29 = pd.read_xml('/content/drive/MyDrive/Subtitles (MOVIE)/Top 30 Movies/The.Matrix.1999.REMASTERED.720p.BluRay.X264-AMIABLE.xml')\n",
        "df30 = pd.read_xml('/content/drive/MyDrive/Subtitles (MOVIE)/Top 30 Movies/The.Silence.Of.The.Lambs.1991.BluRay.1080p.DTS.x264.dxva-EuReKA.ENG.xml')\n"
      ],
      "metadata": {
        "id": "031OZ-Yd0DZj"
      },
      "execution_count": null,
      "outputs": []
    },
    {
      "cell_type": "code",
      "source": [
        "dft_full = pd.concat([df1,df2,df3,df4,df5,df6,df7,df8,df9,df10,df11,df12,df13,df14,df15,df16,df17,df18,df19,df20,df21,df22,df23,df24,df25,df26,df27,df28,df29,df30],axis=0)"
      ],
      "metadata": {
        "id": "wjXGbd4v2HWr"
      },
      "execution_count": null,
      "outputs": []
    },
    {
      "cell_type": "code",
      "source": [
        "dft_full"
      ],
      "metadata": {
        "colab": {
          "base_uri": "https://localhost:8080/",
          "height": 424
        },
        "id": "jJawbDNv9KKM",
        "outputId": "a02f1b85-4934-4440-954d-d3171bce06eb"
      },
      "execution_count": null,
      "outputs": [
        {
          "output_type": "execute_result",
          "data": {
            "text/plain": [
              "      Number  StartMilliseconds  EndMilliseconds  \\\n",
              "0          1              62376            64582   \n",
              "1          2              64667            66832   \n",
              "2          3              66917            69291   \n",
              "3          4              69376            71376   \n",
              "4          5              72875            74582   \n",
              "...      ...                ...              ...   \n",
              "1015    1016            6752754          6755624   \n",
              "1016    1017            6756841          6759379   \n",
              "1017    1018            6762388          6764428   \n",
              "1018    1019            6772314          6775268   \n",
              "1019    1020            6775400          6779611   \n",
              "\n",
              "                                                   Text  \n",
              "0                             Thank you very much, sir.  \n",
              "1                   You did a wonderful job. Wonderful.  \n",
              "2                                             Shh. Shh.  \n",
              "3                           We did it, Pete. We did it.  \n",
              "4            - For a moment, we had our doubts.\\n- Shh.  \n",
              "...                                                 ...  \n",
              "1015               I'm having an old friend for dinner.  \n",
              "1016                               - Bye.\\n- Dr Lecter?  \n",
              "1017                                         Dr Lecter?  \n",
              "1018  Excuse me. You got\\nthe security system all se...  \n",
              "1019  - We have the big-shot security.\\n- Thank you....  \n",
              "\n",
              "[50366 rows x 4 columns]"
            ],
            "text/html": [
              "\n",
              "  <div id=\"df-cafcbbe1-19bb-4176-bfbe-394eff9b0116\">\n",
              "    <div class=\"colab-df-container\">\n",
              "      <div>\n",
              "<style scoped>\n",
              "    .dataframe tbody tr th:only-of-type {\n",
              "        vertical-align: middle;\n",
              "    }\n",
              "\n",
              "    .dataframe tbody tr th {\n",
              "        vertical-align: top;\n",
              "    }\n",
              "\n",
              "    .dataframe thead th {\n",
              "        text-align: right;\n",
              "    }\n",
              "</style>\n",
              "<table border=\"1\" class=\"dataframe\">\n",
              "  <thead>\n",
              "    <tr style=\"text-align: right;\">\n",
              "      <th></th>\n",
              "      <th>Number</th>\n",
              "      <th>StartMilliseconds</th>\n",
              "      <th>EndMilliseconds</th>\n",
              "      <th>Text</th>\n",
              "    </tr>\n",
              "  </thead>\n",
              "  <tbody>\n",
              "    <tr>\n",
              "      <th>0</th>\n",
              "      <td>1</td>\n",
              "      <td>62376</td>\n",
              "      <td>64582</td>\n",
              "      <td>Thank you very much, sir.</td>\n",
              "    </tr>\n",
              "    <tr>\n",
              "      <th>1</th>\n",
              "      <td>2</td>\n",
              "      <td>64667</td>\n",
              "      <td>66832</td>\n",
              "      <td>You did a wonderful job. Wonderful.</td>\n",
              "    </tr>\n",
              "    <tr>\n",
              "      <th>2</th>\n",
              "      <td>3</td>\n",
              "      <td>66917</td>\n",
              "      <td>69291</td>\n",
              "      <td>Shh. Shh.</td>\n",
              "    </tr>\n",
              "    <tr>\n",
              "      <th>3</th>\n",
              "      <td>4</td>\n",
              "      <td>69376</td>\n",
              "      <td>71376</td>\n",
              "      <td>We did it, Pete. We did it.</td>\n",
              "    </tr>\n",
              "    <tr>\n",
              "      <th>4</th>\n",
              "      <td>5</td>\n",
              "      <td>72875</td>\n",
              "      <td>74582</td>\n",
              "      <td>- For a moment, we had our doubts.\\n- Shh.</td>\n",
              "    </tr>\n",
              "    <tr>\n",
              "      <th>...</th>\n",
              "      <td>...</td>\n",
              "      <td>...</td>\n",
              "      <td>...</td>\n",
              "      <td>...</td>\n",
              "    </tr>\n",
              "    <tr>\n",
              "      <th>1015</th>\n",
              "      <td>1016</td>\n",
              "      <td>6752754</td>\n",
              "      <td>6755624</td>\n",
              "      <td>I'm having an old friend for dinner.</td>\n",
              "    </tr>\n",
              "    <tr>\n",
              "      <th>1016</th>\n",
              "      <td>1017</td>\n",
              "      <td>6756841</td>\n",
              "      <td>6759379</td>\n",
              "      <td>- Bye.\\n- Dr Lecter?</td>\n",
              "    </tr>\n",
              "    <tr>\n",
              "      <th>1017</th>\n",
              "      <td>1018</td>\n",
              "      <td>6762388</td>\n",
              "      <td>6764428</td>\n",
              "      <td>Dr Lecter?</td>\n",
              "    </tr>\n",
              "    <tr>\n",
              "      <th>1018</th>\n",
              "      <td>1019</td>\n",
              "      <td>6772314</td>\n",
              "      <td>6775268</td>\n",
              "      <td>Excuse me. You got\\nthe security system all se...</td>\n",
              "    </tr>\n",
              "    <tr>\n",
              "      <th>1019</th>\n",
              "      <td>1020</td>\n",
              "      <td>6775400</td>\n",
              "      <td>6779611</td>\n",
              "      <td>- We have the big-shot security.\\n- Thank you....</td>\n",
              "    </tr>\n",
              "  </tbody>\n",
              "</table>\n",
              "<p>50366 rows × 4 columns</p>\n",
              "</div>\n",
              "      <button class=\"colab-df-convert\" onclick=\"convertToInteractive('df-cafcbbe1-19bb-4176-bfbe-394eff9b0116')\"\n",
              "              title=\"Convert this dataframe to an interactive table.\"\n",
              "              style=\"display:none;\">\n",
              "        \n",
              "  <svg xmlns=\"http://www.w3.org/2000/svg\" height=\"24px\"viewBox=\"0 0 24 24\"\n",
              "       width=\"24px\">\n",
              "    <path d=\"M0 0h24v24H0V0z\" fill=\"none\"/>\n",
              "    <path d=\"M18.56 5.44l.94 2.06.94-2.06 2.06-.94-2.06-.94-.94-2.06-.94 2.06-2.06.94zm-11 1L8.5 8.5l.94-2.06 2.06-.94-2.06-.94L8.5 2.5l-.94 2.06-2.06.94zm10 10l.94 2.06.94-2.06 2.06-.94-2.06-.94-.94-2.06-.94 2.06-2.06.94z\"/><path d=\"M17.41 7.96l-1.37-1.37c-.4-.4-.92-.59-1.43-.59-.52 0-1.04.2-1.43.59L10.3 9.45l-7.72 7.72c-.78.78-.78 2.05 0 2.83L4 21.41c.39.39.9.59 1.41.59.51 0 1.02-.2 1.41-.59l7.78-7.78 2.81-2.81c.8-.78.8-2.07 0-2.86zM5.41 20L4 18.59l7.72-7.72 1.47 1.35L5.41 20z\"/>\n",
              "  </svg>\n",
              "      </button>\n",
              "      \n",
              "  <style>\n",
              "    .colab-df-container {\n",
              "      display:flex;\n",
              "      flex-wrap:wrap;\n",
              "      gap: 12px;\n",
              "    }\n",
              "\n",
              "    .colab-df-convert {\n",
              "      background-color: #E8F0FE;\n",
              "      border: none;\n",
              "      border-radius: 50%;\n",
              "      cursor: pointer;\n",
              "      display: none;\n",
              "      fill: #1967D2;\n",
              "      height: 32px;\n",
              "      padding: 0 0 0 0;\n",
              "      width: 32px;\n",
              "    }\n",
              "\n",
              "    .colab-df-convert:hover {\n",
              "      background-color: #E2EBFA;\n",
              "      box-shadow: 0px 1px 2px rgba(60, 64, 67, 0.3), 0px 1px 3px 1px rgba(60, 64, 67, 0.15);\n",
              "      fill: #174EA6;\n",
              "    }\n",
              "\n",
              "    [theme=dark] .colab-df-convert {\n",
              "      background-color: #3B4455;\n",
              "      fill: #D2E3FC;\n",
              "    }\n",
              "\n",
              "    [theme=dark] .colab-df-convert:hover {\n",
              "      background-color: #434B5C;\n",
              "      box-shadow: 0px 1px 3px 1px rgba(0, 0, 0, 0.15);\n",
              "      filter: drop-shadow(0px 1px 2px rgba(0, 0, 0, 0.3));\n",
              "      fill: #FFFFFF;\n",
              "    }\n",
              "  </style>\n",
              "\n",
              "      <script>\n",
              "        const buttonEl =\n",
              "          document.querySelector('#df-cafcbbe1-19bb-4176-bfbe-394eff9b0116 button.colab-df-convert');\n",
              "        buttonEl.style.display =\n",
              "          google.colab.kernel.accessAllowed ? 'block' : 'none';\n",
              "\n",
              "        async function convertToInteractive(key) {\n",
              "          const element = document.querySelector('#df-cafcbbe1-19bb-4176-bfbe-394eff9b0116');\n",
              "          const dataTable =\n",
              "            await google.colab.kernel.invokeFunction('convertToInteractive',\n",
              "                                                     [key], {});\n",
              "          if (!dataTable) return;\n",
              "\n",
              "          const docLinkHtml = 'Like what you see? Visit the ' +\n",
              "            '<a target=\"_blank\" href=https://colab.research.google.com/notebooks/data_table.ipynb>data table notebook</a>'\n",
              "            + ' to learn more about interactive tables.';\n",
              "          element.innerHTML = '';\n",
              "          dataTable['output_type'] = 'display_data';\n",
              "          await google.colab.output.renderOutput(dataTable, element);\n",
              "          const docLink = document.createElement('div');\n",
              "          docLink.innerHTML = docLinkHtml;\n",
              "          element.appendChild(docLink);\n",
              "        }\n",
              "      </script>\n",
              "    </div>\n",
              "  </div>\n",
              "  "
            ]
          },
          "metadata": {},
          "execution_count": 11
        }
      ]
    },
    {
      "cell_type": "code",
      "source": [
        "dft_full['TimeTaken'] = (dft_full['EndMilliseconds'] - dft_full['StartMilliseconds']) / 1000"
      ],
      "metadata": {
        "id": "dcQCLgZH9MwS"
      },
      "execution_count": null,
      "outputs": []
    },
    {
      "cell_type": "code",
      "source": [
        "dft_full.describe()"
      ],
      "metadata": {
        "colab": {
          "base_uri": "https://localhost:8080/",
          "height": 300
        },
        "id": "6eOPVXDL9du4",
        "outputId": "de8a45c3-fc56-4255-9ddb-c00a17368e35"
      },
      "execution_count": null,
      "outputs": [
        {
          "output_type": "execute_result",
          "data": {
            "text/plain": [
              "             Number  StartMilliseconds  EndMilliseconds     TimeTaken\n",
              "count  50366.000000       5.036600e+04     5.036600e+04  50366.000000\n",
              "mean     894.418914       4.281101e+06     4.283581e+06      2.479569\n",
              "std      574.066353       2.706573e+06     2.706609e+06      1.071665\n",
              "min        1.000000       0.000000e+00     3.198000e+03      0.359000\n",
              "25%      420.000000       2.032111e+06     2.034862e+06      1.669000\n",
              "50%      840.000000       4.038181e+06     4.040838e+06      2.293000\n",
              "75%     1296.000000       6.157693e+06     6.159946e+06      3.090000\n",
              "max     2677.000000       1.444020e+07     1.444193e+07     33.340000"
            ],
            "text/html": [
              "\n",
              "  <div id=\"df-dafea952-4813-4838-b095-3ef33b0e97bd\">\n",
              "    <div class=\"colab-df-container\">\n",
              "      <div>\n",
              "<style scoped>\n",
              "    .dataframe tbody tr th:only-of-type {\n",
              "        vertical-align: middle;\n",
              "    }\n",
              "\n",
              "    .dataframe tbody tr th {\n",
              "        vertical-align: top;\n",
              "    }\n",
              "\n",
              "    .dataframe thead th {\n",
              "        text-align: right;\n",
              "    }\n",
              "</style>\n",
              "<table border=\"1\" class=\"dataframe\">\n",
              "  <thead>\n",
              "    <tr style=\"text-align: right;\">\n",
              "      <th></th>\n",
              "      <th>Number</th>\n",
              "      <th>StartMilliseconds</th>\n",
              "      <th>EndMilliseconds</th>\n",
              "      <th>TimeTaken</th>\n",
              "    </tr>\n",
              "  </thead>\n",
              "  <tbody>\n",
              "    <tr>\n",
              "      <th>count</th>\n",
              "      <td>50366.000000</td>\n",
              "      <td>5.036600e+04</td>\n",
              "      <td>5.036600e+04</td>\n",
              "      <td>50366.000000</td>\n",
              "    </tr>\n",
              "    <tr>\n",
              "      <th>mean</th>\n",
              "      <td>894.418914</td>\n",
              "      <td>4.281101e+06</td>\n",
              "      <td>4.283581e+06</td>\n",
              "      <td>2.479569</td>\n",
              "    </tr>\n",
              "    <tr>\n",
              "      <th>std</th>\n",
              "      <td>574.066353</td>\n",
              "      <td>2.706573e+06</td>\n",
              "      <td>2.706609e+06</td>\n",
              "      <td>1.071665</td>\n",
              "    </tr>\n",
              "    <tr>\n",
              "      <th>min</th>\n",
              "      <td>1.000000</td>\n",
              "      <td>0.000000e+00</td>\n",
              "      <td>3.198000e+03</td>\n",
              "      <td>0.359000</td>\n",
              "    </tr>\n",
              "    <tr>\n",
              "      <th>25%</th>\n",
              "      <td>420.000000</td>\n",
              "      <td>2.032111e+06</td>\n",
              "      <td>2.034862e+06</td>\n",
              "      <td>1.669000</td>\n",
              "    </tr>\n",
              "    <tr>\n",
              "      <th>50%</th>\n",
              "      <td>840.000000</td>\n",
              "      <td>4.038181e+06</td>\n",
              "      <td>4.040838e+06</td>\n",
              "      <td>2.293000</td>\n",
              "    </tr>\n",
              "    <tr>\n",
              "      <th>75%</th>\n",
              "      <td>1296.000000</td>\n",
              "      <td>6.157693e+06</td>\n",
              "      <td>6.159946e+06</td>\n",
              "      <td>3.090000</td>\n",
              "    </tr>\n",
              "    <tr>\n",
              "      <th>max</th>\n",
              "      <td>2677.000000</td>\n",
              "      <td>1.444020e+07</td>\n",
              "      <td>1.444193e+07</td>\n",
              "      <td>33.340000</td>\n",
              "    </tr>\n",
              "  </tbody>\n",
              "</table>\n",
              "</div>\n",
              "      <button class=\"colab-df-convert\" onclick=\"convertToInteractive('df-dafea952-4813-4838-b095-3ef33b0e97bd')\"\n",
              "              title=\"Convert this dataframe to an interactive table.\"\n",
              "              style=\"display:none;\">\n",
              "        \n",
              "  <svg xmlns=\"http://www.w3.org/2000/svg\" height=\"24px\"viewBox=\"0 0 24 24\"\n",
              "       width=\"24px\">\n",
              "    <path d=\"M0 0h24v24H0V0z\" fill=\"none\"/>\n",
              "    <path d=\"M18.56 5.44l.94 2.06.94-2.06 2.06-.94-2.06-.94-.94-2.06-.94 2.06-2.06.94zm-11 1L8.5 8.5l.94-2.06 2.06-.94-2.06-.94L8.5 2.5l-.94 2.06-2.06.94zm10 10l.94 2.06.94-2.06 2.06-.94-2.06-.94-.94-2.06-.94 2.06-2.06.94z\"/><path d=\"M17.41 7.96l-1.37-1.37c-.4-.4-.92-.59-1.43-.59-.52 0-1.04.2-1.43.59L10.3 9.45l-7.72 7.72c-.78.78-.78 2.05 0 2.83L4 21.41c.39.39.9.59 1.41.59.51 0 1.02-.2 1.41-.59l7.78-7.78 2.81-2.81c.8-.78.8-2.07 0-2.86zM5.41 20L4 18.59l7.72-7.72 1.47 1.35L5.41 20z\"/>\n",
              "  </svg>\n",
              "      </button>\n",
              "      \n",
              "  <style>\n",
              "    .colab-df-container {\n",
              "      display:flex;\n",
              "      flex-wrap:wrap;\n",
              "      gap: 12px;\n",
              "    }\n",
              "\n",
              "    .colab-df-convert {\n",
              "      background-color: #E8F0FE;\n",
              "      border: none;\n",
              "      border-radius: 50%;\n",
              "      cursor: pointer;\n",
              "      display: none;\n",
              "      fill: #1967D2;\n",
              "      height: 32px;\n",
              "      padding: 0 0 0 0;\n",
              "      width: 32px;\n",
              "    }\n",
              "\n",
              "    .colab-df-convert:hover {\n",
              "      background-color: #E2EBFA;\n",
              "      box-shadow: 0px 1px 2px rgba(60, 64, 67, 0.3), 0px 1px 3px 1px rgba(60, 64, 67, 0.15);\n",
              "      fill: #174EA6;\n",
              "    }\n",
              "\n",
              "    [theme=dark] .colab-df-convert {\n",
              "      background-color: #3B4455;\n",
              "      fill: #D2E3FC;\n",
              "    }\n",
              "\n",
              "    [theme=dark] .colab-df-convert:hover {\n",
              "      background-color: #434B5C;\n",
              "      box-shadow: 0px 1px 3px 1px rgba(0, 0, 0, 0.15);\n",
              "      filter: drop-shadow(0px 1px 2px rgba(0, 0, 0, 0.3));\n",
              "      fill: #FFFFFF;\n",
              "    }\n",
              "  </style>\n",
              "\n",
              "      <script>\n",
              "        const buttonEl =\n",
              "          document.querySelector('#df-dafea952-4813-4838-b095-3ef33b0e97bd button.colab-df-convert');\n",
              "        buttonEl.style.display =\n",
              "          google.colab.kernel.accessAllowed ? 'block' : 'none';\n",
              "\n",
              "        async function convertToInteractive(key) {\n",
              "          const element = document.querySelector('#df-dafea952-4813-4838-b095-3ef33b0e97bd');\n",
              "          const dataTable =\n",
              "            await google.colab.kernel.invokeFunction('convertToInteractive',\n",
              "                                                     [key], {});\n",
              "          if (!dataTable) return;\n",
              "\n",
              "          const docLinkHtml = 'Like what you see? Visit the ' +\n",
              "            '<a target=\"_blank\" href=https://colab.research.google.com/notebooks/data_table.ipynb>data table notebook</a>'\n",
              "            + ' to learn more about interactive tables.';\n",
              "          element.innerHTML = '';\n",
              "          dataTable['output_type'] = 'display_data';\n",
              "          await google.colab.output.renderOutput(dataTable, element);\n",
              "          const docLink = document.createElement('div');\n",
              "          docLink.innerHTML = docLinkHtml;\n",
              "          element.appendChild(docLink);\n",
              "        }\n",
              "      </script>\n",
              "    </div>\n",
              "  </div>\n",
              "  "
            ]
          },
          "metadata": {},
          "execution_count": 13
        }
      ]
    },
    {
      "cell_type": "markdown",
      "source": [
        "**average time taken : 2.5 seconds aprrox**"
      ],
      "metadata": {
        "id": "gckpz-q_-Q0H"
      }
    },
    {
      "cell_type": "code",
      "source": [
        "submission1 = pd.DataFrame(dft_full)\n",
        "submission1.to_csv('topmovies.csv', index=False)"
      ],
      "metadata": {
        "id": "LXNbVzuD9iQX"
      },
      "execution_count": null,
      "outputs": []
    },
    {
      "cell_type": "markdown",
      "source": [
        "For Lower 30 movies"
      ],
      "metadata": {
        "id": "KB4lxkxYDXQr"
      }
    },
    {
      "cell_type": "code",
      "source": [
        "dfl1 = pd.read_xml('/content/drive/MyDrive/Subtitles (MOVIE)/lower 30(3 to5)/Alien vs Predator Requiem AVP2 (2007) Unrated.xml')\n",
        "dfl2 = pd.read_xml('/content/drive/MyDrive/Subtitles (MOVIE)/lower 30(3 to5)/Basic.Instinct.2.2006.720p.BluRay.x264-[YTS.LT].xml')\n",
        "dfl3 = pd.read_xml('/content/drive/MyDrive/Subtitles (MOVIE)/lower 30(3 to5)/Beverly.Hills.Chihuahua[2008]DvDrip-aXXo.en.xml',encoding='latin1')\n",
        "dfl4 = pd.read_xml('/content/drive/MyDrive/Subtitles (MOVIE)/lower 30(3 to5)/Capone.2020.HDRip.XviD.AC3-EVO.xml')\n",
        "dfl5 = pd.read_xml('/content/drive/MyDrive/Subtitles (MOVIE)/lower 30(3 to5)/Cell.2016.720p.BluRay.x264-PFa-HI.xml')\n",
        "dfl6 = pd.read_xml('/content/drive/MyDrive/Subtitles (MOVIE)/lower 30(3 to5)/Cinderella.2021.1080p.WEB.H264-TIMECUT.xml')\n",
        "dfl7 = pd.read_xml('/content/drive/MyDrive/Subtitles (MOVIE)/lower 30(3 to5)/Day.of.the.Dead.Bloodline.2018.720p.BluRay.x264-GUACAMOLE.xml')\n",
        "dfl8 = pd.read_xml('/content/drive/MyDrive/Subtitles (MOVIE)/lower 30(3 to5)/Dragon.War.ENG.TS.XViD-mVs-[N3krA].xml')\n",
        "dfl9 = pd.read_xml('/content/drive/MyDrive/Subtitles (MOVIE)/lower 30(3 to5)/Dungeons And Dragons.English.xml')\n",
        "dfl10 = pd.read_xml('/content/drive/MyDrive/Subtitles (MOVIE)/lower 30(3 to5)/Escape Plan 2 Hades.2018.DVDRip.XviD.AC3-EVO.xml',encoding='latin1')\n",
        "dfl11 = pd.read_xml('/content/drive/MyDrive/Subtitles (MOVIE)/lower 30(3 to5)/Fifty.Shades.of.Grey.2015.UNRATED.720p.BluRay.X264-AMIABLE.xml')\n",
        "dfl12 = pd.read_xml('/content/drive/MyDrive/Subtitles (MOVIE)/lower 30(3 to5)/Ghost.Rider.Spirit.Of.Vengeance.2011.720p.BluRay.X264-SPARKS.english.xml')\n",
        "dfl13 = pd.read_xml('/content/drive/MyDrive/Subtitles (MOVIE)/lower 30(3 to5)/Gotti.2018.720p.BluRay.x264-GUACAMOLE.xml')\n",
        "dfl14 = pd.read_xml('/content/drive/MyDrive/Subtitles (MOVIE)/lower 30(3 to5)/Gullivers.Travels.720p.mkv.550mb.YIFY.xml')\n",
        "dfl15 = pd.read_xml('/content/drive/MyDrive/Subtitles (MOVIE)/lower 30(3 to5)/Home.Alone.3.1997.WEB-DL.DSNP.xml')\n",
        "dfl16 = pd.read_xml('/content/drive/MyDrive/Subtitles (MOVIE)/lower 30(3 to5)/I.Know.Who.Killed.Me.2007.RERIP.DVDRip.XviD-FLAiTE_en.xml')\n",
        "dfl17 = pd.read_xml('/content/drive/MyDrive/Subtitles (MOVIE)/lower 30(3 to5)/Jack.And.Jill.2011.Blu-ray.AVC.1080p.DTS-HD.MA 5.1-HDChina.English.xml')\n",
        "dfl18 = pd.read_xml('/content/drive/MyDrive/Subtitles (MOVIE)/lower 30(3 to5)/LOL.2012.720p.BluRay.x264.DTS-HDChina.english.xml')\n",
        "dfl19 = pd.read_xml('/content/drive/MyDrive/Subtitles (MOVIE)/lower 30(3 to5)/Left.Behind.2014.720p.BluRay.x264.YIFY.xml')\n",
        "dfl20 = pd.read_xml('/content/drive/MyDrive/Subtitles (MOVIE)/lower 30(3 to5)/Material Girls (2006).eng.xml',encoding='latin1')\n",
        "dfl21 = pd.read_xml('/content/drive/MyDrive/Subtitles (MOVIE)/lower 30(3 to5)/Scary.Movie.5.2013.720p.BluRay.x264.DTS-HDWinG.xml')\n",
        "dfl22 = pd.read_xml('/content/drive/MyDrive/Subtitles (MOVIE)/lower 30(3 to5)/Sex.and.the.City.2.2010.Extended.Vu.WebDL.29.975.xml')\n",
        "dfl23 = pd.read_xml('/content/drive/MyDrive/Subtitles (MOVIE)/lower 30(3 to5)/Slender.Man.2018.720p.BluRay.x264-DRONES.xml')\n",
        "dfl24 = pd.read_xml('/content/drive/MyDrive/Subtitles (MOVIE)/lower 30(3 to5)/Space.Jam.A.New.Legacy.2021.1080p.BluRay.x264-PiGNUS.xml')\n",
        "dfl25 = pd.read_xml('/content/drive/MyDrive/Subtitles (MOVIE)/lower 30(3 to5)/Super.Mario.Brothers.1993.DVDRip.AC3.x264-ShitBusters.ENG.xml',encoding='latin1')\n",
        "dfl26 = pd.read_xml('/content/drive/MyDrive/Subtitles (MOVIE)/lower 30(3 to5)/The.Emoji.Movie.2017.REPACK.PROPER.1080p.BluRay.H264.AAC-RARBG-postbot-xpost.en.xml')\n",
        "dfl27 = pd.read_xml('/content/drive/MyDrive/Subtitles (MOVIE)/lower 30(3 to5)/The.Grudge.2020.720p.BluRay.x264-YOL0W.xml')\n",
        "dfl28 = pd.read_xml('/content/drive/MyDrive/Subtitles (MOVIE)/lower 30(3 to5)/The.Last.Airbender.2010.PROPER.720p.BluRay.x264-DON.xml')\n",
        "dfl29 = pd.read_xml('/content/drive/MyDrive/Subtitles (MOVIE)/lower 30(3 to5)/The.Love.Guru[2008]DvDrip-aXXo.en.xml')\n",
        "dfl30 = pd.read_xml('/content/drive/MyDrive/Subtitles (MOVIE)/lower 30(3 to5)/Wounds.2019.1080p.NF.WEBRip.DDP5.1.Atmos.x264-CM.xml')\n"
      ],
      "metadata": {
        "id": "y62rCzCj-evU"
      },
      "execution_count": null,
      "outputs": []
    },
    {
      "cell_type": "code",
      "source": [
        "dfl_full = pd.concat([dfl1,dfl2,dfl3,dfl4,dfl5,dfl6,dfl7,dfl8,dfl9,dfl10,dfl11,dfl12,dfl13,dfl14,dfl15,dfl16,dfl17,dfl18,dfl19,dfl20,dfl21,dfl22,dfl23,dfl24,dfl25,dfl26,dfl27,dfl28,dfl29,dfl30],axis=0)"
      ],
      "metadata": {
        "id": "tSxV__eoBzip"
      },
      "execution_count": null,
      "outputs": []
    },
    {
      "cell_type": "code",
      "source": [
        "lower=[dfl1,dfl2,dfl3,dfl4,dfl5,dfl6,dfl7,dfl8,dfl9,dfl10,dfl11,dfl12,dfl13,dfl14,dfl15,dfl16,dfl17,dfl18,dfl19,dfl20,dfl21,dfl22,dfl23,dfl24,dfl25,dfl26,dfl27,dfl28,dfl29,dfl30]"
      ],
      "metadata": {
        "id": "vim8yELqH0rs"
      },
      "execution_count": null,
      "outputs": []
    },
    {
      "cell_type": "code",
      "source": [
        "upper=[df1,df2,df3,df4,df5,df6,df7,df8,df9,df10,df11,df12,df13,df14,df15,df16,df17,df18,df19,df20,df21,df22,df23,df24,df25,df26,df27,df28,df29,df30]"
      ],
      "metadata": {
        "id": "VCZBL1vyICTs"
      },
      "execution_count": null,
      "outputs": []
    },
    {
      "cell_type": "code",
      "source": [],
      "metadata": {
        "id": "sWOIxFPbLCxU"
      },
      "execution_count": null,
      "outputs": []
    },
    {
      "cell_type": "code",
      "source": [
        "dfl_full"
      ],
      "metadata": {
        "colab": {
          "base_uri": "https://localhost:8080/",
          "height": 424
        },
        "id": "r4TFdRkICSCM",
        "outputId": "dee29458-30e0-4428-a352-44ba877c3f82"
      },
      "execution_count": null,
      "outputs": [
        {
          "output_type": "execute_result",
          "data": {
            "text/plain": [
              "     Number  StartMilliseconds  EndMilliseconds  \\\n",
              "0         1                186             6239   \n",
              "1         2               6423             8424   \n",
              "2         3              19978            22146   \n",
              "3         4              22231            24273   \n",
              "4         5              24358            27276   \n",
              "..      ...                ...              ...   \n",
              "930     931            4121212          4122710   \n",
              "931     932            4192274          4195238   \n",
              "932     933            4196670          4197469   \n",
              "933     934            4218614          4219580   \n",
              "934     935            4220712          4221944   \n",
              "\n",
              "                                                  Text  \n",
              "0    ( Drum Roll ) 06 Alien vs Predator Requiem AVP...  \n",
              "1                (Rousing orchestral\\nfanfare playing)  \n",
              "2                                       (Fanfare ends)  \n",
              "3                                (Ominous chord plays)  \n",
              "4                            (Electronic tone pulsing)  \n",
              "..                                                 ...  \n",
              "930         I wonder what would happen if I called it.  \n",
              "931  Don't do it, please.\\nDon't do it! Don't do it...  \n",
              "932                                     Don't do this.  \n",
              "933                                            Fix me.  \n",
              "934                                     Make me whole.  \n",
              "\n",
              "[36369 rows x 4 columns]"
            ],
            "text/html": [
              "\n",
              "  <div id=\"df-51da9d9d-f917-4811-8df8-995306b57387\">\n",
              "    <div class=\"colab-df-container\">\n",
              "      <div>\n",
              "<style scoped>\n",
              "    .dataframe tbody tr th:only-of-type {\n",
              "        vertical-align: middle;\n",
              "    }\n",
              "\n",
              "    .dataframe tbody tr th {\n",
              "        vertical-align: top;\n",
              "    }\n",
              "\n",
              "    .dataframe thead th {\n",
              "        text-align: right;\n",
              "    }\n",
              "</style>\n",
              "<table border=\"1\" class=\"dataframe\">\n",
              "  <thead>\n",
              "    <tr style=\"text-align: right;\">\n",
              "      <th></th>\n",
              "      <th>Number</th>\n",
              "      <th>StartMilliseconds</th>\n",
              "      <th>EndMilliseconds</th>\n",
              "      <th>Text</th>\n",
              "    </tr>\n",
              "  </thead>\n",
              "  <tbody>\n",
              "    <tr>\n",
              "      <th>0</th>\n",
              "      <td>1</td>\n",
              "      <td>186</td>\n",
              "      <td>6239</td>\n",
              "      <td>( Drum Roll ) 06 Alien vs Predator Requiem AVP...</td>\n",
              "    </tr>\n",
              "    <tr>\n",
              "      <th>1</th>\n",
              "      <td>2</td>\n",
              "      <td>6423</td>\n",
              "      <td>8424</td>\n",
              "      <td>(Rousing orchestral\\nfanfare playing)</td>\n",
              "    </tr>\n",
              "    <tr>\n",
              "      <th>2</th>\n",
              "      <td>3</td>\n",
              "      <td>19978</td>\n",
              "      <td>22146</td>\n",
              "      <td>(Fanfare ends)</td>\n",
              "    </tr>\n",
              "    <tr>\n",
              "      <th>3</th>\n",
              "      <td>4</td>\n",
              "      <td>22231</td>\n",
              "      <td>24273</td>\n",
              "      <td>(Ominous chord plays)</td>\n",
              "    </tr>\n",
              "    <tr>\n",
              "      <th>4</th>\n",
              "      <td>5</td>\n",
              "      <td>24358</td>\n",
              "      <td>27276</td>\n",
              "      <td>(Electronic tone pulsing)</td>\n",
              "    </tr>\n",
              "    <tr>\n",
              "      <th>...</th>\n",
              "      <td>...</td>\n",
              "      <td>...</td>\n",
              "      <td>...</td>\n",
              "      <td>...</td>\n",
              "    </tr>\n",
              "    <tr>\n",
              "      <th>930</th>\n",
              "      <td>931</td>\n",
              "      <td>4121212</td>\n",
              "      <td>4122710</td>\n",
              "      <td>I wonder what would happen if I called it.</td>\n",
              "    </tr>\n",
              "    <tr>\n",
              "      <th>931</th>\n",
              "      <td>932</td>\n",
              "      <td>4192274</td>\n",
              "      <td>4195238</td>\n",
              "      <td>Don't do it, please.\\nDon't do it! Don't do it...</td>\n",
              "    </tr>\n",
              "    <tr>\n",
              "      <th>932</th>\n",
              "      <td>933</td>\n",
              "      <td>4196670</td>\n",
              "      <td>4197469</td>\n",
              "      <td>Don't do this.</td>\n",
              "    </tr>\n",
              "    <tr>\n",
              "      <th>933</th>\n",
              "      <td>934</td>\n",
              "      <td>4218614</td>\n",
              "      <td>4219580</td>\n",
              "      <td>Fix me.</td>\n",
              "    </tr>\n",
              "    <tr>\n",
              "      <th>934</th>\n",
              "      <td>935</td>\n",
              "      <td>4220712</td>\n",
              "      <td>4221944</td>\n",
              "      <td>Make me whole.</td>\n",
              "    </tr>\n",
              "  </tbody>\n",
              "</table>\n",
              "<p>36369 rows × 4 columns</p>\n",
              "</div>\n",
              "      <button class=\"colab-df-convert\" onclick=\"convertToInteractive('df-51da9d9d-f917-4811-8df8-995306b57387')\"\n",
              "              title=\"Convert this dataframe to an interactive table.\"\n",
              "              style=\"display:none;\">\n",
              "        \n",
              "  <svg xmlns=\"http://www.w3.org/2000/svg\" height=\"24px\"viewBox=\"0 0 24 24\"\n",
              "       width=\"24px\">\n",
              "    <path d=\"M0 0h24v24H0V0z\" fill=\"none\"/>\n",
              "    <path d=\"M18.56 5.44l.94 2.06.94-2.06 2.06-.94-2.06-.94-.94-2.06-.94 2.06-2.06.94zm-11 1L8.5 8.5l.94-2.06 2.06-.94-2.06-.94L8.5 2.5l-.94 2.06-2.06.94zm10 10l.94 2.06.94-2.06 2.06-.94-2.06-.94-.94-2.06-.94 2.06-2.06.94z\"/><path d=\"M17.41 7.96l-1.37-1.37c-.4-.4-.92-.59-1.43-.59-.52 0-1.04.2-1.43.59L10.3 9.45l-7.72 7.72c-.78.78-.78 2.05 0 2.83L4 21.41c.39.39.9.59 1.41.59.51 0 1.02-.2 1.41-.59l7.78-7.78 2.81-2.81c.8-.78.8-2.07 0-2.86zM5.41 20L4 18.59l7.72-7.72 1.47 1.35L5.41 20z\"/>\n",
              "  </svg>\n",
              "      </button>\n",
              "      \n",
              "  <style>\n",
              "    .colab-df-container {\n",
              "      display:flex;\n",
              "      flex-wrap:wrap;\n",
              "      gap: 12px;\n",
              "    }\n",
              "\n",
              "    .colab-df-convert {\n",
              "      background-color: #E8F0FE;\n",
              "      border: none;\n",
              "      border-radius: 50%;\n",
              "      cursor: pointer;\n",
              "      display: none;\n",
              "      fill: #1967D2;\n",
              "      height: 32px;\n",
              "      padding: 0 0 0 0;\n",
              "      width: 32px;\n",
              "    }\n",
              "\n",
              "    .colab-df-convert:hover {\n",
              "      background-color: #E2EBFA;\n",
              "      box-shadow: 0px 1px 2px rgba(60, 64, 67, 0.3), 0px 1px 3px 1px rgba(60, 64, 67, 0.15);\n",
              "      fill: #174EA6;\n",
              "    }\n",
              "\n",
              "    [theme=dark] .colab-df-convert {\n",
              "      background-color: #3B4455;\n",
              "      fill: #D2E3FC;\n",
              "    }\n",
              "\n",
              "    [theme=dark] .colab-df-convert:hover {\n",
              "      background-color: #434B5C;\n",
              "      box-shadow: 0px 1px 3px 1px rgba(0, 0, 0, 0.15);\n",
              "      filter: drop-shadow(0px 1px 2px rgba(0, 0, 0, 0.3));\n",
              "      fill: #FFFFFF;\n",
              "    }\n",
              "  </style>\n",
              "\n",
              "      <script>\n",
              "        const buttonEl =\n",
              "          document.querySelector('#df-51da9d9d-f917-4811-8df8-995306b57387 button.colab-df-convert');\n",
              "        buttonEl.style.display =\n",
              "          google.colab.kernel.accessAllowed ? 'block' : 'none';\n",
              "\n",
              "        async function convertToInteractive(key) {\n",
              "          const element = document.querySelector('#df-51da9d9d-f917-4811-8df8-995306b57387');\n",
              "          const dataTable =\n",
              "            await google.colab.kernel.invokeFunction('convertToInteractive',\n",
              "                                                     [key], {});\n",
              "          if (!dataTable) return;\n",
              "\n",
              "          const docLinkHtml = 'Like what you see? Visit the ' +\n",
              "            '<a target=\"_blank\" href=https://colab.research.google.com/notebooks/data_table.ipynb>data table notebook</a>'\n",
              "            + ' to learn more about interactive tables.';\n",
              "          element.innerHTML = '';\n",
              "          dataTable['output_type'] = 'display_data';\n",
              "          await google.colab.output.renderOutput(dataTable, element);\n",
              "          const docLink = document.createElement('div');\n",
              "          docLink.innerHTML = docLinkHtml;\n",
              "          element.appendChild(docLink);\n",
              "        }\n",
              "      </script>\n",
              "    </div>\n",
              "  </div>\n",
              "  "
            ]
          },
          "metadata": {},
          "execution_count": 19
        }
      ]
    },
    {
      "cell_type": "code",
      "source": [
        "dfl_full['TimeTaken'] = (dfl_full['EndMilliseconds'] - dfl_full['StartMilliseconds']) / 1000"
      ],
      "metadata": {
        "id": "idGt0QvYCU-E"
      },
      "execution_count": null,
      "outputs": []
    },
    {
      "cell_type": "code",
      "source": [
        "dfl_full"
      ],
      "metadata": {
        "colab": {
          "base_uri": "https://localhost:8080/",
          "height": 424
        },
        "id": "PGriMfbECaym",
        "outputId": "d4a12d4e-3480-40f6-a314-3bf308033d5f"
      },
      "execution_count": null,
      "outputs": [
        {
          "output_type": "execute_result",
          "data": {
            "text/plain": [
              "     Number  StartMilliseconds  EndMilliseconds  \\\n",
              "0         1                186             6239   \n",
              "1         2               6423             8424   \n",
              "2         3              19978            22146   \n",
              "3         4              22231            24273   \n",
              "4         5              24358            27276   \n",
              "..      ...                ...              ...   \n",
              "930     931            4121212          4122710   \n",
              "931     932            4192274          4195238   \n",
              "932     933            4196670          4197469   \n",
              "933     934            4218614          4219580   \n",
              "934     935            4220712          4221944   \n",
              "\n",
              "                                                  Text  TimeTaken  \n",
              "0    ( Drum Roll ) 06 Alien vs Predator Requiem AVP...      6.053  \n",
              "1                (Rousing orchestral\\nfanfare playing)      2.001  \n",
              "2                                       (Fanfare ends)      2.168  \n",
              "3                                (Ominous chord plays)      2.042  \n",
              "4                            (Electronic tone pulsing)      2.918  \n",
              "..                                                 ...        ...  \n",
              "930         I wonder what would happen if I called it.      1.498  \n",
              "931  Don't do it, please.\\nDon't do it! Don't do it...      2.964  \n",
              "932                                     Don't do this.      0.799  \n",
              "933                                            Fix me.      0.966  \n",
              "934                                     Make me whole.      1.232  \n",
              "\n",
              "[36369 rows x 5 columns]"
            ],
            "text/html": [
              "\n",
              "  <div id=\"df-8bbfacdf-0b43-4cdf-8bc1-4e3696be71e9\">\n",
              "    <div class=\"colab-df-container\">\n",
              "      <div>\n",
              "<style scoped>\n",
              "    .dataframe tbody tr th:only-of-type {\n",
              "        vertical-align: middle;\n",
              "    }\n",
              "\n",
              "    .dataframe tbody tr th {\n",
              "        vertical-align: top;\n",
              "    }\n",
              "\n",
              "    .dataframe thead th {\n",
              "        text-align: right;\n",
              "    }\n",
              "</style>\n",
              "<table border=\"1\" class=\"dataframe\">\n",
              "  <thead>\n",
              "    <tr style=\"text-align: right;\">\n",
              "      <th></th>\n",
              "      <th>Number</th>\n",
              "      <th>StartMilliseconds</th>\n",
              "      <th>EndMilliseconds</th>\n",
              "      <th>Text</th>\n",
              "      <th>TimeTaken</th>\n",
              "    </tr>\n",
              "  </thead>\n",
              "  <tbody>\n",
              "    <tr>\n",
              "      <th>0</th>\n",
              "      <td>1</td>\n",
              "      <td>186</td>\n",
              "      <td>6239</td>\n",
              "      <td>( Drum Roll ) 06 Alien vs Predator Requiem AVP...</td>\n",
              "      <td>6.053</td>\n",
              "    </tr>\n",
              "    <tr>\n",
              "      <th>1</th>\n",
              "      <td>2</td>\n",
              "      <td>6423</td>\n",
              "      <td>8424</td>\n",
              "      <td>(Rousing orchestral\\nfanfare playing)</td>\n",
              "      <td>2.001</td>\n",
              "    </tr>\n",
              "    <tr>\n",
              "      <th>2</th>\n",
              "      <td>3</td>\n",
              "      <td>19978</td>\n",
              "      <td>22146</td>\n",
              "      <td>(Fanfare ends)</td>\n",
              "      <td>2.168</td>\n",
              "    </tr>\n",
              "    <tr>\n",
              "      <th>3</th>\n",
              "      <td>4</td>\n",
              "      <td>22231</td>\n",
              "      <td>24273</td>\n",
              "      <td>(Ominous chord plays)</td>\n",
              "      <td>2.042</td>\n",
              "    </tr>\n",
              "    <tr>\n",
              "      <th>4</th>\n",
              "      <td>5</td>\n",
              "      <td>24358</td>\n",
              "      <td>27276</td>\n",
              "      <td>(Electronic tone pulsing)</td>\n",
              "      <td>2.918</td>\n",
              "    </tr>\n",
              "    <tr>\n",
              "      <th>...</th>\n",
              "      <td>...</td>\n",
              "      <td>...</td>\n",
              "      <td>...</td>\n",
              "      <td>...</td>\n",
              "      <td>...</td>\n",
              "    </tr>\n",
              "    <tr>\n",
              "      <th>930</th>\n",
              "      <td>931</td>\n",
              "      <td>4121212</td>\n",
              "      <td>4122710</td>\n",
              "      <td>I wonder what would happen if I called it.</td>\n",
              "      <td>1.498</td>\n",
              "    </tr>\n",
              "    <tr>\n",
              "      <th>931</th>\n",
              "      <td>932</td>\n",
              "      <td>4192274</td>\n",
              "      <td>4195238</td>\n",
              "      <td>Don't do it, please.\\nDon't do it! Don't do it...</td>\n",
              "      <td>2.964</td>\n",
              "    </tr>\n",
              "    <tr>\n",
              "      <th>932</th>\n",
              "      <td>933</td>\n",
              "      <td>4196670</td>\n",
              "      <td>4197469</td>\n",
              "      <td>Don't do this.</td>\n",
              "      <td>0.799</td>\n",
              "    </tr>\n",
              "    <tr>\n",
              "      <th>933</th>\n",
              "      <td>934</td>\n",
              "      <td>4218614</td>\n",
              "      <td>4219580</td>\n",
              "      <td>Fix me.</td>\n",
              "      <td>0.966</td>\n",
              "    </tr>\n",
              "    <tr>\n",
              "      <th>934</th>\n",
              "      <td>935</td>\n",
              "      <td>4220712</td>\n",
              "      <td>4221944</td>\n",
              "      <td>Make me whole.</td>\n",
              "      <td>1.232</td>\n",
              "    </tr>\n",
              "  </tbody>\n",
              "</table>\n",
              "<p>36369 rows × 5 columns</p>\n",
              "</div>\n",
              "      <button class=\"colab-df-convert\" onclick=\"convertToInteractive('df-8bbfacdf-0b43-4cdf-8bc1-4e3696be71e9')\"\n",
              "              title=\"Convert this dataframe to an interactive table.\"\n",
              "              style=\"display:none;\">\n",
              "        \n",
              "  <svg xmlns=\"http://www.w3.org/2000/svg\" height=\"24px\"viewBox=\"0 0 24 24\"\n",
              "       width=\"24px\">\n",
              "    <path d=\"M0 0h24v24H0V0z\" fill=\"none\"/>\n",
              "    <path d=\"M18.56 5.44l.94 2.06.94-2.06 2.06-.94-2.06-.94-.94-2.06-.94 2.06-2.06.94zm-11 1L8.5 8.5l.94-2.06 2.06-.94-2.06-.94L8.5 2.5l-.94 2.06-2.06.94zm10 10l.94 2.06.94-2.06 2.06-.94-2.06-.94-.94-2.06-.94 2.06-2.06.94z\"/><path d=\"M17.41 7.96l-1.37-1.37c-.4-.4-.92-.59-1.43-.59-.52 0-1.04.2-1.43.59L10.3 9.45l-7.72 7.72c-.78.78-.78 2.05 0 2.83L4 21.41c.39.39.9.59 1.41.59.51 0 1.02-.2 1.41-.59l7.78-7.78 2.81-2.81c.8-.78.8-2.07 0-2.86zM5.41 20L4 18.59l7.72-7.72 1.47 1.35L5.41 20z\"/>\n",
              "  </svg>\n",
              "      </button>\n",
              "      \n",
              "  <style>\n",
              "    .colab-df-container {\n",
              "      display:flex;\n",
              "      flex-wrap:wrap;\n",
              "      gap: 12px;\n",
              "    }\n",
              "\n",
              "    .colab-df-convert {\n",
              "      background-color: #E8F0FE;\n",
              "      border: none;\n",
              "      border-radius: 50%;\n",
              "      cursor: pointer;\n",
              "      display: none;\n",
              "      fill: #1967D2;\n",
              "      height: 32px;\n",
              "      padding: 0 0 0 0;\n",
              "      width: 32px;\n",
              "    }\n",
              "\n",
              "    .colab-df-convert:hover {\n",
              "      background-color: #E2EBFA;\n",
              "      box-shadow: 0px 1px 2px rgba(60, 64, 67, 0.3), 0px 1px 3px 1px rgba(60, 64, 67, 0.15);\n",
              "      fill: #174EA6;\n",
              "    }\n",
              "\n",
              "    [theme=dark] .colab-df-convert {\n",
              "      background-color: #3B4455;\n",
              "      fill: #D2E3FC;\n",
              "    }\n",
              "\n",
              "    [theme=dark] .colab-df-convert:hover {\n",
              "      background-color: #434B5C;\n",
              "      box-shadow: 0px 1px 3px 1px rgba(0, 0, 0, 0.15);\n",
              "      filter: drop-shadow(0px 1px 2px rgba(0, 0, 0, 0.3));\n",
              "      fill: #FFFFFF;\n",
              "    }\n",
              "  </style>\n",
              "\n",
              "      <script>\n",
              "        const buttonEl =\n",
              "          document.querySelector('#df-8bbfacdf-0b43-4cdf-8bc1-4e3696be71e9 button.colab-df-convert');\n",
              "        buttonEl.style.display =\n",
              "          google.colab.kernel.accessAllowed ? 'block' : 'none';\n",
              "\n",
              "        async function convertToInteractive(key) {\n",
              "          const element = document.querySelector('#df-8bbfacdf-0b43-4cdf-8bc1-4e3696be71e9');\n",
              "          const dataTable =\n",
              "            await google.colab.kernel.invokeFunction('convertToInteractive',\n",
              "                                                     [key], {});\n",
              "          if (!dataTable) return;\n",
              "\n",
              "          const docLinkHtml = 'Like what you see? Visit the ' +\n",
              "            '<a target=\"_blank\" href=https://colab.research.google.com/notebooks/data_table.ipynb>data table notebook</a>'\n",
              "            + ' to learn more about interactive tables.';\n",
              "          element.innerHTML = '';\n",
              "          dataTable['output_type'] = 'display_data';\n",
              "          await google.colab.output.renderOutput(dataTable, element);\n",
              "          const docLink = document.createElement('div');\n",
              "          docLink.innerHTML = docLinkHtml;\n",
              "          element.appendChild(docLink);\n",
              "        }\n",
              "      </script>\n",
              "    </div>\n",
              "  </div>\n",
              "  "
            ]
          },
          "metadata": {},
          "execution_count": 21
        }
      ]
    },
    {
      "cell_type": "code",
      "source": [
        "dfl_full.describe()"
      ],
      "metadata": {
        "colab": {
          "base_uri": "https://localhost:8080/",
          "height": 300
        },
        "id": "Jv7RZoLYCfNr",
        "outputId": "25afbba1-4077-4751-fef5-6b3e27d4dd4f"
      },
      "execution_count": null,
      "outputs": [
        {
          "output_type": "execute_result",
          "data": {
            "text/plain": [
              "            Number  StartMilliseconds  EndMilliseconds     TimeTaken\n",
              "count  36369.00000       3.636900e+04     3.636900e+04  36369.000000\n",
              "mean     668.65828       2.821113e+06     2.823372e+06      2.258868\n",
              "std      452.07056       1.741288e+06     1.741309e+06      0.973557\n",
              "min        1.00000       1.860000e+02     6.239000e+03      0.040000\n",
              "25%      304.00000       1.332631e+06     1.334140e+06      1.525000\n",
              "50%      607.00000       2.690996e+06     2.693650e+06      2.068000\n",
              "75%      966.00000       4.145193e+06     4.147142e+06      2.836000\n",
              "max     2138.00000       8.387750e+06     8.391210e+06     10.208000"
            ],
            "text/html": [
              "\n",
              "  <div id=\"df-0a48f411-dab2-4fdd-8ff6-a185ddf1dde0\">\n",
              "    <div class=\"colab-df-container\">\n",
              "      <div>\n",
              "<style scoped>\n",
              "    .dataframe tbody tr th:only-of-type {\n",
              "        vertical-align: middle;\n",
              "    }\n",
              "\n",
              "    .dataframe tbody tr th {\n",
              "        vertical-align: top;\n",
              "    }\n",
              "\n",
              "    .dataframe thead th {\n",
              "        text-align: right;\n",
              "    }\n",
              "</style>\n",
              "<table border=\"1\" class=\"dataframe\">\n",
              "  <thead>\n",
              "    <tr style=\"text-align: right;\">\n",
              "      <th></th>\n",
              "      <th>Number</th>\n",
              "      <th>StartMilliseconds</th>\n",
              "      <th>EndMilliseconds</th>\n",
              "      <th>TimeTaken</th>\n",
              "    </tr>\n",
              "  </thead>\n",
              "  <tbody>\n",
              "    <tr>\n",
              "      <th>count</th>\n",
              "      <td>36369.00000</td>\n",
              "      <td>3.636900e+04</td>\n",
              "      <td>3.636900e+04</td>\n",
              "      <td>36369.000000</td>\n",
              "    </tr>\n",
              "    <tr>\n",
              "      <th>mean</th>\n",
              "      <td>668.65828</td>\n",
              "      <td>2.821113e+06</td>\n",
              "      <td>2.823372e+06</td>\n",
              "      <td>2.258868</td>\n",
              "    </tr>\n",
              "    <tr>\n",
              "      <th>std</th>\n",
              "      <td>452.07056</td>\n",
              "      <td>1.741288e+06</td>\n",
              "      <td>1.741309e+06</td>\n",
              "      <td>0.973557</td>\n",
              "    </tr>\n",
              "    <tr>\n",
              "      <th>min</th>\n",
              "      <td>1.00000</td>\n",
              "      <td>1.860000e+02</td>\n",
              "      <td>6.239000e+03</td>\n",
              "      <td>0.040000</td>\n",
              "    </tr>\n",
              "    <tr>\n",
              "      <th>25%</th>\n",
              "      <td>304.00000</td>\n",
              "      <td>1.332631e+06</td>\n",
              "      <td>1.334140e+06</td>\n",
              "      <td>1.525000</td>\n",
              "    </tr>\n",
              "    <tr>\n",
              "      <th>50%</th>\n",
              "      <td>607.00000</td>\n",
              "      <td>2.690996e+06</td>\n",
              "      <td>2.693650e+06</td>\n",
              "      <td>2.068000</td>\n",
              "    </tr>\n",
              "    <tr>\n",
              "      <th>75%</th>\n",
              "      <td>966.00000</td>\n",
              "      <td>4.145193e+06</td>\n",
              "      <td>4.147142e+06</td>\n",
              "      <td>2.836000</td>\n",
              "    </tr>\n",
              "    <tr>\n",
              "      <th>max</th>\n",
              "      <td>2138.00000</td>\n",
              "      <td>8.387750e+06</td>\n",
              "      <td>8.391210e+06</td>\n",
              "      <td>10.208000</td>\n",
              "    </tr>\n",
              "  </tbody>\n",
              "</table>\n",
              "</div>\n",
              "      <button class=\"colab-df-convert\" onclick=\"convertToInteractive('df-0a48f411-dab2-4fdd-8ff6-a185ddf1dde0')\"\n",
              "              title=\"Convert this dataframe to an interactive table.\"\n",
              "              style=\"display:none;\">\n",
              "        \n",
              "  <svg xmlns=\"http://www.w3.org/2000/svg\" height=\"24px\"viewBox=\"0 0 24 24\"\n",
              "       width=\"24px\">\n",
              "    <path d=\"M0 0h24v24H0V0z\" fill=\"none\"/>\n",
              "    <path d=\"M18.56 5.44l.94 2.06.94-2.06 2.06-.94-2.06-.94-.94-2.06-.94 2.06-2.06.94zm-11 1L8.5 8.5l.94-2.06 2.06-.94-2.06-.94L8.5 2.5l-.94 2.06-2.06.94zm10 10l.94 2.06.94-2.06 2.06-.94-2.06-.94-.94-2.06-.94 2.06-2.06.94z\"/><path d=\"M17.41 7.96l-1.37-1.37c-.4-.4-.92-.59-1.43-.59-.52 0-1.04.2-1.43.59L10.3 9.45l-7.72 7.72c-.78.78-.78 2.05 0 2.83L4 21.41c.39.39.9.59 1.41.59.51 0 1.02-.2 1.41-.59l7.78-7.78 2.81-2.81c.8-.78.8-2.07 0-2.86zM5.41 20L4 18.59l7.72-7.72 1.47 1.35L5.41 20z\"/>\n",
              "  </svg>\n",
              "      </button>\n",
              "      \n",
              "  <style>\n",
              "    .colab-df-container {\n",
              "      display:flex;\n",
              "      flex-wrap:wrap;\n",
              "      gap: 12px;\n",
              "    }\n",
              "\n",
              "    .colab-df-convert {\n",
              "      background-color: #E8F0FE;\n",
              "      border: none;\n",
              "      border-radius: 50%;\n",
              "      cursor: pointer;\n",
              "      display: none;\n",
              "      fill: #1967D2;\n",
              "      height: 32px;\n",
              "      padding: 0 0 0 0;\n",
              "      width: 32px;\n",
              "    }\n",
              "\n",
              "    .colab-df-convert:hover {\n",
              "      background-color: #E2EBFA;\n",
              "      box-shadow: 0px 1px 2px rgba(60, 64, 67, 0.3), 0px 1px 3px 1px rgba(60, 64, 67, 0.15);\n",
              "      fill: #174EA6;\n",
              "    }\n",
              "\n",
              "    [theme=dark] .colab-df-convert {\n",
              "      background-color: #3B4455;\n",
              "      fill: #D2E3FC;\n",
              "    }\n",
              "\n",
              "    [theme=dark] .colab-df-convert:hover {\n",
              "      background-color: #434B5C;\n",
              "      box-shadow: 0px 1px 3px 1px rgba(0, 0, 0, 0.15);\n",
              "      filter: drop-shadow(0px 1px 2px rgba(0, 0, 0, 0.3));\n",
              "      fill: #FFFFFF;\n",
              "    }\n",
              "  </style>\n",
              "\n",
              "      <script>\n",
              "        const buttonEl =\n",
              "          document.querySelector('#df-0a48f411-dab2-4fdd-8ff6-a185ddf1dde0 button.colab-df-convert');\n",
              "        buttonEl.style.display =\n",
              "          google.colab.kernel.accessAllowed ? 'block' : 'none';\n",
              "\n",
              "        async function convertToInteractive(key) {\n",
              "          const element = document.querySelector('#df-0a48f411-dab2-4fdd-8ff6-a185ddf1dde0');\n",
              "          const dataTable =\n",
              "            await google.colab.kernel.invokeFunction('convertToInteractive',\n",
              "                                                     [key], {});\n",
              "          if (!dataTable) return;\n",
              "\n",
              "          const docLinkHtml = 'Like what you see? Visit the ' +\n",
              "            '<a target=\"_blank\" href=https://colab.research.google.com/notebooks/data_table.ipynb>data table notebook</a>'\n",
              "            + ' to learn more about interactive tables.';\n",
              "          element.innerHTML = '';\n",
              "          dataTable['output_type'] = 'display_data';\n",
              "          await google.colab.output.renderOutput(dataTable, element);\n",
              "          const docLink = document.createElement('div');\n",
              "          docLink.innerHTML = docLinkHtml;\n",
              "          element.appendChild(docLink);\n",
              "        }\n",
              "      </script>\n",
              "    </div>\n",
              "  </div>\n",
              "  "
            ]
          },
          "metadata": {},
          "execution_count": 22
        }
      ]
    },
    {
      "cell_type": "markdown",
      "source": [
        "**average time taken : 2.3 seconds aprrox**"
      ],
      "metadata": {
        "id": "CG1l219_DLIc"
      }
    },
    {
      "cell_type": "code",
      "source": [
        "submission2 = pd.DataFrame(dfl_full)\n",
        "submission2.to_csv('lowermovies.csv', index=False)"
      ],
      "metadata": {
        "id": "dbRUH5uwDIBa"
      },
      "execution_count": null,
      "outputs": []
    },
    {
      "cell_type": "code",
      "source": [],
      "metadata": {
        "id": "2wy1Y5DkDPu4"
      },
      "execution_count": null,
      "outputs": []
    },
    {
      "cell_type": "markdown",
      "source": [
        "For Middle 30 movies"
      ],
      "metadata": {
        "id": "PYW9Jsg3EUbD"
      }
    },
    {
      "cell_type": "code",
      "source": [
        "dfm1 = pd.read_xml('/content/drive/MyDrive/Subtitles (MOVIE)/Middle 30 (6to8)/21.Grams.2003.1080p.BluRay.DTS.x264-EbP.ENG.xml',encoding='latin1')\n",
        "dfm2 = pd.read_xml('/content/drive/MyDrive/Subtitles (MOVIE)/Middle 30 (6to8)/A.Dangerous.Method.2011.480p.BRRip.XviD.AC3-BKZ.xml',encoding='latin1')\n",
        "dfm3 = pd.read_xml('/content/drive/MyDrive/Subtitles (MOVIE)/Middle 30 (6to8)/A.Walk.Among.the.Tombstones.2014.720p.BluRay.x264-SPARKS.xml',encoding='latin1')\n",
        "dfm4 = pd.read_xml('/content/drive/MyDrive/Subtitles (MOVIE)/Middle 30 (6to8)/Absolutely.Anything.2015.720p.BluRay.x264-ROVERS.xml')\n",
        "dfm5 = pd.read_xml('/content/drive/MyDrive/Subtitles (MOVIE)/Middle 30 (6to8)/August.Osage.County.2013.BDRip.X264-SPARKS.xml',encoding='latin1')\n",
        "dfm6 = pd.read_xml('/content/drive/MyDrive/Subtitles (MOVIE)/Middle 30 (6to8)/Birds.of.Prey.And.the.Fantabulous.Emancipation.of.One.Harley.Quinn.2020.KORSUB.HDRip.x264-STUTTERSHIT.xml')\n",
        "dfm7 = pd.read_xml('/content/drive/MyDrive/Subtitles (MOVIE)/Middle 30 (6to8)/Born.On.The.Fourth.Of.July.1989.WS.DVDRip.XviD-AXIAL.CD1.English.xml',encoding='latin1')\n",
        "dfm8 = pd.read_xml('/content/drive/MyDrive/Subtitles (MOVIE)/Middle 30 (6to8)/Brimstone.2016.720p.BluRay.x264-ROVERS.xml')\n",
        "dfm9 = pd.read_xml('/content/drive/MyDrive/Subtitles (MOVIE)/Middle 30 (6to8)/Elizabeth.1998.1080p.HDDVD.DTS.x264-hV.ENG.xml')\n",
        "dfm10 = pd.read_xml('/content/drive/MyDrive/Subtitles (MOVIE)/Middle 30 (6to8)/From Russia With Love 1963 720p BluRay DTS x264-CtrlHD.eng.xml',encoding='latin1')\n"
      ],
      "metadata": {
        "id": "PfjMw36pEXKY"
      },
      "execution_count": null,
      "outputs": []
    },
    {
      "cell_type": "code",
      "source": [
        "dfm11 = pd.read_xml('/content/drive/MyDrive/Subtitles (MOVIE)/Middle 30 (6to8)/Happy.Feet.2006.FS.DVDRip.xVID-LRC.xml',encoding='latin1')\n",
        "dfm12 = pd.read_xml('/content/drive/MyDrive/Subtitles (MOVIE)/Middle 30 (6to8)/Hot.Rod.2007.1080p.Bluray.x264-hV.eng.xml')\n",
        "dfm13 = pd.read_xml('/content/drive/MyDrive/Subtitles (MOVIE)/Middle 30 (6to8)/J. Edgar (2011).eng.xml')\n",
        "dfm14 = pd.read_xml('/content/drive/MyDrive/Subtitles (MOVIE)/Middle 30 (6to8)/Jujutsu.Kaisen.0.The.Movie.2021.DUBBED.1080p.WEB-DL.DD5.1.H.264-HI.xml')\n",
        "dfm15 = pd.read_xml('/content/drive/MyDrive/Subtitles (MOVIE)/Middle 30 (6to8)/Kingpin.1996.EXTENDED.720p.BluRay.x264-SiNNERS.xml')\n",
        "dfm16 = pd.read_xml('/content/drive/MyDrive/Subtitles (MOVIE)/Middle 30 (6to8)/My.Own.Private.Idaho.1991.720p.BluRay.x264-SiNNERS.xml')\n",
        "dfm17 = pd.read_xml(\"/content/drive/MyDrive/Subtitles (MOVIE)/Middle 30 (6to8)/Ocean's.Thirteen.2007.BluRay.720p.AC3.x264-CHD.eng.xml\")\n",
        "dfm18 = pd.read_xml('/content/drive/MyDrive/Subtitles (MOVIE)/Middle 30 (6to8)/Once.2006.BluRay.1080p.DTS.x264-CHD.ENG.xml')\n",
        "dfm19= pd.read_xml('/content/drive/MyDrive/Subtitles (MOVIE)/Middle 30 (6to8)/Persepolis.DVDRip .xml')\n",
        "dfm20 = pd.read_xml('/content/drive/MyDrive/Subtitles (MOVIE)/Middle 30 (6to8)/Sanjuro.1962.720p.BluRay.x264-CiNEFiLE.eng.xml')\n",
        "dfm21 = pd.read_xml('/content/drive/MyDrive/Subtitles (MOVIE)/Middle 30 (6to8)/Shazam.Fury.Of.The.Gods.2023.720p.MA.WEB-DL.DDP5.1.Atmos.x264-CMRG-HI.xml')\n",
        "dfm22 = pd.read_xml('/content/drive/MyDrive/Subtitles (MOVIE)/Middle 30 (6to8)/The Chaser (2008) [BRRip-720p).eng.xml')\n",
        "dfm23 = pd.read_xml('/content/drive/MyDrive/Subtitles (MOVIE)/Middle 30 (6to8)/The Killing Fields.ENG.xml')\n",
        "dfm24 = pd.read_xml('/content/drive/MyDrive/Subtitles (MOVIE)/Middle 30 (6to8)/The.Courier.2020.1080p.BluRay.x264.DTS-HD.MA.5.1-FGT.xml')\n",
        "dfm25 = pd.read_xml('/content/drive/MyDrive/Subtitles (MOVIE)/Middle 30 (6to8)/The.Fast.And.The.Furious.III.Tokyo.Drift.2006.BluRay.720p.x264.DTS-WiKi.eng.xml',encoding='latin1')\n",
        "dfm26 = pd.read_xml('/content/drive/MyDrive/Subtitles (MOVIE)/Middle 30 (6to8)/The.Last.Letter.From.Your.Lover.2021.1080p.NF.WEB-DL.DDP5.1.Atmos.x264-EVO-HI.xml')\n",
        "dfm27 = pd.read_xml('/content/drive/MyDrive/Subtitles (MOVIE)/Middle 30 (6to8)/The.Voyeurs.2021.1080p.AMZN.WEB-DL.DDP5.1.H.264-CMRG-HI.xml')\n",
        "dfm28 = pd.read_xml('/content/drive/MyDrive/Subtitles (MOVIE)/Middle 30 (6to8)/Tucker.and.Dale.Vs.Evil.2010.480p.BRRiP.XViD.AC3-FLAWL3SS.xml')\n",
        "dfm29 = pd.read_xml('/content/drive/MyDrive/Subtitles (MOVIE)/Middle 30 (6to8)/White.Bird.In.A.Blizzard.2014.LIMITED.720p.BluRay.x264-SNOW.xml')\n",
        "dfm30 = pd.read_xml('/content/drive/MyDrive/Subtitles (MOVIE)/Middle 30 (6to8)/halcyon-cider.house.rules-720p.xml')"
      ],
      "metadata": {
        "id": "PnorHbbIFVZc"
      },
      "execution_count": null,
      "outputs": []
    },
    {
      "cell_type": "code",
      "source": [
        "dfm_full = pd.concat([dfm1,dfm2,dfm3,dfm4,dfm5,dfm6,dfm7,dfm8,dfm9,dfm10,dfm11,dfm12,dfm13,dfm14,dfm15,dfm16,dfm17,dfm18,dfm19,dfm20,dfm21,dfm22,dfm23,dfm24,dfm25,dfm26,dfm27,dfm28,dfm29,dfm30],axis=0)"
      ],
      "metadata": {
        "id": "iWN4RQUTHDqe"
      },
      "execution_count": null,
      "outputs": []
    },
    {
      "cell_type": "code",
      "source": [
        "middle=[dfm1,dfm2,dfm3,dfm4,dfm5,dfm6,dfm7,dfm8,dfm9,dfm10,dfm11,dfm12,dfm13,dfm14,dfm15,dfm16,dfm17,dfm18,dfm19,dfm20,dfm21,dfm22,dfm23,dfm24,dfm25,dfm26,dfm27,dfm28,dfm29,dfm30]"
      ],
      "metadata": {
        "id": "pX_ga0VELJkx"
      },
      "execution_count": null,
      "outputs": []
    },
    {
      "cell_type": "code",
      "source": [
        "type(middle)"
      ],
      "metadata": {
        "id": "f1fPNsSHNusu",
        "outputId": "317bc5cf-b125-434e-c683-6c36b13b181b",
        "colab": {
          "base_uri": "https://localhost:8080/"
        }
      },
      "execution_count": null,
      "outputs": [
        {
          "output_type": "execute_result",
          "data": {
            "text/plain": [
              "list"
            ]
          },
          "metadata": {},
          "execution_count": 28
        }
      ]
    },
    {
      "cell_type": "code",
      "source": [
        "dfm_full['TimeTaken'] = (dfm_full['EndMilliseconds'] - dfm_full['StartMilliseconds']) / 1000"
      ],
      "metadata": {
        "id": "wcpitfW2H0Kv"
      },
      "execution_count": null,
      "outputs": []
    },
    {
      "cell_type": "code",
      "source": [
        "dfm_full.describe()"
      ],
      "metadata": {
        "colab": {
          "base_uri": "https://localhost:8080/",
          "height": 300
        },
        "id": "0RF22SxAH9e5",
        "outputId": "e508a8ee-50f0-4d4d-db68-d13b52dc2a5e"
      },
      "execution_count": null,
      "outputs": [
        {
          "output_type": "execute_result",
          "data": {
            "text/plain": [
              "             Number  StartMilliseconds  EndMilliseconds     TimeTaken\n",
              "count  38895.000000       3.889500e+04     3.889500e+04  38895.000000\n",
              "mean     695.571333       3.036572e+06     3.038996e+06      2.424633\n",
              "std      457.062570       1.829822e+06     1.829843e+06      1.029102\n",
              "min        1.000000       6.333000e+03     8.333000e+03      0.227000\n",
              "25%      325.000000       1.492547e+06     1.494980e+06      1.668000\n",
              "50%      649.000000       2.925490e+06     2.927700e+06      2.229000\n",
              "75%      996.000000       4.395610e+06     4.398365e+06      3.003000\n",
              "max     2318.000000       8.408414e+06     8.410289e+06     19.062000"
            ],
            "text/html": [
              "\n",
              "  <div id=\"df-09fd552d-02c8-415c-bd53-7536c4ef56f0\">\n",
              "    <div class=\"colab-df-container\">\n",
              "      <div>\n",
              "<style scoped>\n",
              "    .dataframe tbody tr th:only-of-type {\n",
              "        vertical-align: middle;\n",
              "    }\n",
              "\n",
              "    .dataframe tbody tr th {\n",
              "        vertical-align: top;\n",
              "    }\n",
              "\n",
              "    .dataframe thead th {\n",
              "        text-align: right;\n",
              "    }\n",
              "</style>\n",
              "<table border=\"1\" class=\"dataframe\">\n",
              "  <thead>\n",
              "    <tr style=\"text-align: right;\">\n",
              "      <th></th>\n",
              "      <th>Number</th>\n",
              "      <th>StartMilliseconds</th>\n",
              "      <th>EndMilliseconds</th>\n",
              "      <th>TimeTaken</th>\n",
              "    </tr>\n",
              "  </thead>\n",
              "  <tbody>\n",
              "    <tr>\n",
              "      <th>count</th>\n",
              "      <td>38895.000000</td>\n",
              "      <td>3.889500e+04</td>\n",
              "      <td>3.889500e+04</td>\n",
              "      <td>38895.000000</td>\n",
              "    </tr>\n",
              "    <tr>\n",
              "      <th>mean</th>\n",
              "      <td>695.571333</td>\n",
              "      <td>3.036572e+06</td>\n",
              "      <td>3.038996e+06</td>\n",
              "      <td>2.424633</td>\n",
              "    </tr>\n",
              "    <tr>\n",
              "      <th>std</th>\n",
              "      <td>457.062570</td>\n",
              "      <td>1.829822e+06</td>\n",
              "      <td>1.829843e+06</td>\n",
              "      <td>1.029102</td>\n",
              "    </tr>\n",
              "    <tr>\n",
              "      <th>min</th>\n",
              "      <td>1.000000</td>\n",
              "      <td>6.333000e+03</td>\n",
              "      <td>8.333000e+03</td>\n",
              "      <td>0.227000</td>\n",
              "    </tr>\n",
              "    <tr>\n",
              "      <th>25%</th>\n",
              "      <td>325.000000</td>\n",
              "      <td>1.492547e+06</td>\n",
              "      <td>1.494980e+06</td>\n",
              "      <td>1.668000</td>\n",
              "    </tr>\n",
              "    <tr>\n",
              "      <th>50%</th>\n",
              "      <td>649.000000</td>\n",
              "      <td>2.925490e+06</td>\n",
              "      <td>2.927700e+06</td>\n",
              "      <td>2.229000</td>\n",
              "    </tr>\n",
              "    <tr>\n",
              "      <th>75%</th>\n",
              "      <td>996.000000</td>\n",
              "      <td>4.395610e+06</td>\n",
              "      <td>4.398365e+06</td>\n",
              "      <td>3.003000</td>\n",
              "    </tr>\n",
              "    <tr>\n",
              "      <th>max</th>\n",
              "      <td>2318.000000</td>\n",
              "      <td>8.408414e+06</td>\n",
              "      <td>8.410289e+06</td>\n",
              "      <td>19.062000</td>\n",
              "    </tr>\n",
              "  </tbody>\n",
              "</table>\n",
              "</div>\n",
              "      <button class=\"colab-df-convert\" onclick=\"convertToInteractive('df-09fd552d-02c8-415c-bd53-7536c4ef56f0')\"\n",
              "              title=\"Convert this dataframe to an interactive table.\"\n",
              "              style=\"display:none;\">\n",
              "        \n",
              "  <svg xmlns=\"http://www.w3.org/2000/svg\" height=\"24px\"viewBox=\"0 0 24 24\"\n",
              "       width=\"24px\">\n",
              "    <path d=\"M0 0h24v24H0V0z\" fill=\"none\"/>\n",
              "    <path d=\"M18.56 5.44l.94 2.06.94-2.06 2.06-.94-2.06-.94-.94-2.06-.94 2.06-2.06.94zm-11 1L8.5 8.5l.94-2.06 2.06-.94-2.06-.94L8.5 2.5l-.94 2.06-2.06.94zm10 10l.94 2.06.94-2.06 2.06-.94-2.06-.94-.94-2.06-.94 2.06-2.06.94z\"/><path d=\"M17.41 7.96l-1.37-1.37c-.4-.4-.92-.59-1.43-.59-.52 0-1.04.2-1.43.59L10.3 9.45l-7.72 7.72c-.78.78-.78 2.05 0 2.83L4 21.41c.39.39.9.59 1.41.59.51 0 1.02-.2 1.41-.59l7.78-7.78 2.81-2.81c.8-.78.8-2.07 0-2.86zM5.41 20L4 18.59l7.72-7.72 1.47 1.35L5.41 20z\"/>\n",
              "  </svg>\n",
              "      </button>\n",
              "      \n",
              "  <style>\n",
              "    .colab-df-container {\n",
              "      display:flex;\n",
              "      flex-wrap:wrap;\n",
              "      gap: 12px;\n",
              "    }\n",
              "\n",
              "    .colab-df-convert {\n",
              "      background-color: #E8F0FE;\n",
              "      border: none;\n",
              "      border-radius: 50%;\n",
              "      cursor: pointer;\n",
              "      display: none;\n",
              "      fill: #1967D2;\n",
              "      height: 32px;\n",
              "      padding: 0 0 0 0;\n",
              "      width: 32px;\n",
              "    }\n",
              "\n",
              "    .colab-df-convert:hover {\n",
              "      background-color: #E2EBFA;\n",
              "      box-shadow: 0px 1px 2px rgba(60, 64, 67, 0.3), 0px 1px 3px 1px rgba(60, 64, 67, 0.15);\n",
              "      fill: #174EA6;\n",
              "    }\n",
              "\n",
              "    [theme=dark] .colab-df-convert {\n",
              "      background-color: #3B4455;\n",
              "      fill: #D2E3FC;\n",
              "    }\n",
              "\n",
              "    [theme=dark] .colab-df-convert:hover {\n",
              "      background-color: #434B5C;\n",
              "      box-shadow: 0px 1px 3px 1px rgba(0, 0, 0, 0.15);\n",
              "      filter: drop-shadow(0px 1px 2px rgba(0, 0, 0, 0.3));\n",
              "      fill: #FFFFFF;\n",
              "    }\n",
              "  </style>\n",
              "\n",
              "      <script>\n",
              "        const buttonEl =\n",
              "          document.querySelector('#df-09fd552d-02c8-415c-bd53-7536c4ef56f0 button.colab-df-convert');\n",
              "        buttonEl.style.display =\n",
              "          google.colab.kernel.accessAllowed ? 'block' : 'none';\n",
              "\n",
              "        async function convertToInteractive(key) {\n",
              "          const element = document.querySelector('#df-09fd552d-02c8-415c-bd53-7536c4ef56f0');\n",
              "          const dataTable =\n",
              "            await google.colab.kernel.invokeFunction('convertToInteractive',\n",
              "                                                     [key], {});\n",
              "          if (!dataTable) return;\n",
              "\n",
              "          const docLinkHtml = 'Like what you see? Visit the ' +\n",
              "            '<a target=\"_blank\" href=https://colab.research.google.com/notebooks/data_table.ipynb>data table notebook</a>'\n",
              "            + ' to learn more about interactive tables.';\n",
              "          element.innerHTML = '';\n",
              "          dataTable['output_type'] = 'display_data';\n",
              "          await google.colab.output.renderOutput(dataTable, element);\n",
              "          const docLink = document.createElement('div');\n",
              "          docLink.innerHTML = docLinkHtml;\n",
              "          element.appendChild(docLink);\n",
              "        }\n",
              "      </script>\n",
              "    </div>\n",
              "  </div>\n",
              "  "
            ]
          },
          "metadata": {},
          "execution_count": 30
        }
      ]
    },
    {
      "cell_type": "markdown",
      "source": [
        "**average time taken : 2.4 seconds aprrox**"
      ],
      "metadata": {
        "id": "pjjg11SCIOhx"
      }
    },
    {
      "cell_type": "code",
      "source": [
        "submission3 = pd.DataFrame(dfm_full)\n",
        "submission3.to_csv('middlemovies.csv', index=False)"
      ],
      "metadata": {
        "id": "xiWpmwhGICkV"
      },
      "execution_count": null,
      "outputs": []
    },
    {
      "cell_type": "code",
      "source": [
        "df_full = pd.concat([dft_full,dfm_full,dfl_full], axis = 0)"
      ],
      "metadata": {
        "id": "oqdoJ97jJRpC"
      },
      "execution_count": null,
      "outputs": []
    },
    {
      "cell_type": "code",
      "source": [
        "dfl1"
      ],
      "metadata": {
        "id": "4kK5ZQWYHjLm",
        "outputId": "62b3a0e8-df7a-430a-e615-28beeac93b23",
        "colab": {
          "base_uri": "https://localhost:8080/",
          "height": 424
        }
      },
      "execution_count": null,
      "outputs": [
        {
          "output_type": "execute_result",
          "data": {
            "text/plain": [
              "      Number  StartMilliseconds  EndMilliseconds  \\\n",
              "0          1                186             6239   \n",
              "1          2               6423             8424   \n",
              "2          3              19978            22146   \n",
              "3          4              22231            24273   \n",
              "4          5              24358            27276   \n",
              "...      ...                ...              ...   \n",
              "1415    1416            5678196          5683784   \n",
              "1416    1417            5689165          5692209   \n",
              "1417    1418            5696673          5699758   \n",
              "1418    1419            5699843          5703846   \n",
              "1419    1420            6055364          6059075   \n",
              "\n",
              "                                                   Text  \n",
              "0     ( Drum Roll ) 06 Alien vs Predator Requiem AVP...  \n",
              "1                 (Rousing orchestral\\nfanfare playing)  \n",
              "2                                        (Fanfare ends)  \n",
              "3                                 (Ominous chord plays)  \n",
              "4                             (Electronic tone pulsing)  \n",
              "...                                                 ...  \n",
              "1415  But this isn't for our world,\\nis it, Ms. Yutani?  \n",
              "1416             (Ominous theme\\nbuilding dramatically)  \n",
              "1417                   - (Echoing slam)\\n- (Music ends)  \n",
              "1418     (Intense, brooding,\\norchestral theme playing)  \n",
              "1419                                       (Music ends)  \n",
              "\n",
              "[1420 rows x 4 columns]"
            ],
            "text/html": [
              "\n",
              "  <div id=\"df-9e9c311a-12ad-486e-8a2a-51977ece565c\">\n",
              "    <div class=\"colab-df-container\">\n",
              "      <div>\n",
              "<style scoped>\n",
              "    .dataframe tbody tr th:only-of-type {\n",
              "        vertical-align: middle;\n",
              "    }\n",
              "\n",
              "    .dataframe tbody tr th {\n",
              "        vertical-align: top;\n",
              "    }\n",
              "\n",
              "    .dataframe thead th {\n",
              "        text-align: right;\n",
              "    }\n",
              "</style>\n",
              "<table border=\"1\" class=\"dataframe\">\n",
              "  <thead>\n",
              "    <tr style=\"text-align: right;\">\n",
              "      <th></th>\n",
              "      <th>Number</th>\n",
              "      <th>StartMilliseconds</th>\n",
              "      <th>EndMilliseconds</th>\n",
              "      <th>Text</th>\n",
              "    </tr>\n",
              "  </thead>\n",
              "  <tbody>\n",
              "    <tr>\n",
              "      <th>0</th>\n",
              "      <td>1</td>\n",
              "      <td>186</td>\n",
              "      <td>6239</td>\n",
              "      <td>( Drum Roll ) 06 Alien vs Predator Requiem AVP...</td>\n",
              "    </tr>\n",
              "    <tr>\n",
              "      <th>1</th>\n",
              "      <td>2</td>\n",
              "      <td>6423</td>\n",
              "      <td>8424</td>\n",
              "      <td>(Rousing orchestral\\nfanfare playing)</td>\n",
              "    </tr>\n",
              "    <tr>\n",
              "      <th>2</th>\n",
              "      <td>3</td>\n",
              "      <td>19978</td>\n",
              "      <td>22146</td>\n",
              "      <td>(Fanfare ends)</td>\n",
              "    </tr>\n",
              "    <tr>\n",
              "      <th>3</th>\n",
              "      <td>4</td>\n",
              "      <td>22231</td>\n",
              "      <td>24273</td>\n",
              "      <td>(Ominous chord plays)</td>\n",
              "    </tr>\n",
              "    <tr>\n",
              "      <th>4</th>\n",
              "      <td>5</td>\n",
              "      <td>24358</td>\n",
              "      <td>27276</td>\n",
              "      <td>(Electronic tone pulsing)</td>\n",
              "    </tr>\n",
              "    <tr>\n",
              "      <th>...</th>\n",
              "      <td>...</td>\n",
              "      <td>...</td>\n",
              "      <td>...</td>\n",
              "      <td>...</td>\n",
              "    </tr>\n",
              "    <tr>\n",
              "      <th>1415</th>\n",
              "      <td>1416</td>\n",
              "      <td>5678196</td>\n",
              "      <td>5683784</td>\n",
              "      <td>But this isn't for our world,\\nis it, Ms. Yutani?</td>\n",
              "    </tr>\n",
              "    <tr>\n",
              "      <th>1416</th>\n",
              "      <td>1417</td>\n",
              "      <td>5689165</td>\n",
              "      <td>5692209</td>\n",
              "      <td>(Ominous theme\\nbuilding dramatically)</td>\n",
              "    </tr>\n",
              "    <tr>\n",
              "      <th>1417</th>\n",
              "      <td>1418</td>\n",
              "      <td>5696673</td>\n",
              "      <td>5699758</td>\n",
              "      <td>- (Echoing slam)\\n- (Music ends)</td>\n",
              "    </tr>\n",
              "    <tr>\n",
              "      <th>1418</th>\n",
              "      <td>1419</td>\n",
              "      <td>5699843</td>\n",
              "      <td>5703846</td>\n",
              "      <td>(Intense, brooding,\\norchestral theme playing)</td>\n",
              "    </tr>\n",
              "    <tr>\n",
              "      <th>1419</th>\n",
              "      <td>1420</td>\n",
              "      <td>6055364</td>\n",
              "      <td>6059075</td>\n",
              "      <td>(Music ends)</td>\n",
              "    </tr>\n",
              "  </tbody>\n",
              "</table>\n",
              "<p>1420 rows × 4 columns</p>\n",
              "</div>\n",
              "      <button class=\"colab-df-convert\" onclick=\"convertToInteractive('df-9e9c311a-12ad-486e-8a2a-51977ece565c')\"\n",
              "              title=\"Convert this dataframe to an interactive table.\"\n",
              "              style=\"display:none;\">\n",
              "        \n",
              "  <svg xmlns=\"http://www.w3.org/2000/svg\" height=\"24px\"viewBox=\"0 0 24 24\"\n",
              "       width=\"24px\">\n",
              "    <path d=\"M0 0h24v24H0V0z\" fill=\"none\"/>\n",
              "    <path d=\"M18.56 5.44l.94 2.06.94-2.06 2.06-.94-2.06-.94-.94-2.06-.94 2.06-2.06.94zm-11 1L8.5 8.5l.94-2.06 2.06-.94-2.06-.94L8.5 2.5l-.94 2.06-2.06.94zm10 10l.94 2.06.94-2.06 2.06-.94-2.06-.94-.94-2.06-.94 2.06-2.06.94z\"/><path d=\"M17.41 7.96l-1.37-1.37c-.4-.4-.92-.59-1.43-.59-.52 0-1.04.2-1.43.59L10.3 9.45l-7.72 7.72c-.78.78-.78 2.05 0 2.83L4 21.41c.39.39.9.59 1.41.59.51 0 1.02-.2 1.41-.59l7.78-7.78 2.81-2.81c.8-.78.8-2.07 0-2.86zM5.41 20L4 18.59l7.72-7.72 1.47 1.35L5.41 20z\"/>\n",
              "  </svg>\n",
              "      </button>\n",
              "      \n",
              "  <style>\n",
              "    .colab-df-container {\n",
              "      display:flex;\n",
              "      flex-wrap:wrap;\n",
              "      gap: 12px;\n",
              "    }\n",
              "\n",
              "    .colab-df-convert {\n",
              "      background-color: #E8F0FE;\n",
              "      border: none;\n",
              "      border-radius: 50%;\n",
              "      cursor: pointer;\n",
              "      display: none;\n",
              "      fill: #1967D2;\n",
              "      height: 32px;\n",
              "      padding: 0 0 0 0;\n",
              "      width: 32px;\n",
              "    }\n",
              "\n",
              "    .colab-df-convert:hover {\n",
              "      background-color: #E2EBFA;\n",
              "      box-shadow: 0px 1px 2px rgba(60, 64, 67, 0.3), 0px 1px 3px 1px rgba(60, 64, 67, 0.15);\n",
              "      fill: #174EA6;\n",
              "    }\n",
              "\n",
              "    [theme=dark] .colab-df-convert {\n",
              "      background-color: #3B4455;\n",
              "      fill: #D2E3FC;\n",
              "    }\n",
              "\n",
              "    [theme=dark] .colab-df-convert:hover {\n",
              "      background-color: #434B5C;\n",
              "      box-shadow: 0px 1px 3px 1px rgba(0, 0, 0, 0.15);\n",
              "      filter: drop-shadow(0px 1px 2px rgba(0, 0, 0, 0.3));\n",
              "      fill: #FFFFFF;\n",
              "    }\n",
              "  </style>\n",
              "\n",
              "      <script>\n",
              "        const buttonEl =\n",
              "          document.querySelector('#df-9e9c311a-12ad-486e-8a2a-51977ece565c button.colab-df-convert');\n",
              "        buttonEl.style.display =\n",
              "          google.colab.kernel.accessAllowed ? 'block' : 'none';\n",
              "\n",
              "        async function convertToInteractive(key) {\n",
              "          const element = document.querySelector('#df-9e9c311a-12ad-486e-8a2a-51977ece565c');\n",
              "          const dataTable =\n",
              "            await google.colab.kernel.invokeFunction('convertToInteractive',\n",
              "                                                     [key], {});\n",
              "          if (!dataTable) return;\n",
              "\n",
              "          const docLinkHtml = 'Like what you see? Visit the ' +\n",
              "            '<a target=\"_blank\" href=https://colab.research.google.com/notebooks/data_table.ipynb>data table notebook</a>'\n",
              "            + ' to learn more about interactive tables.';\n",
              "          element.innerHTML = '';\n",
              "          dataTable['output_type'] = 'display_data';\n",
              "          await google.colab.output.renderOutput(dataTable, element);\n",
              "          const docLink = document.createElement('div');\n",
              "          docLink.innerHTML = docLinkHtml;\n",
              "          element.appendChild(docLink);\n",
              "        }\n",
              "      </script>\n",
              "    </div>\n",
              "  </div>\n",
              "  "
            ]
          },
          "metadata": {},
          "execution_count": 33
        }
      ]
    },
    {
      "cell_type": "code",
      "source": [
        "df11['TimeTaken'] = (df11['EndMilliseconds'] - df11['StartMilliseconds']) / 1000"
      ],
      "metadata": {
        "id": "QMa3eebTUVBi"
      },
      "execution_count": null,
      "outputs": []
    },
    {
      "cell_type": "markdown",
      "source": [
        "#Time taken"
      ],
      "metadata": {
        "id": "Memi-LE1ZkqC"
      }
    },
    {
      "cell_type": "code",
      "source": [
        "def time_taken(l):\n",
        "  for i in range(len(l)):\n",
        "    l[i]['TimeTaken'] = (l[i]['EndMilliseconds'] - l[i]['StartMilliseconds']) / 1000\n",
        "time_taken(middle)\n",
        "time_taken(lower)\n",
        "time_taken(upper)"
      ],
      "metadata": {
        "id": "1aLbQpFUWLJz"
      },
      "execution_count": null,
      "outputs": []
    },
    {
      "cell_type": "code",
      "source": [
        "dfm1"
      ],
      "metadata": {
        "id": "EHwVUvUIXPkg",
        "colab": {
          "base_uri": "https://localhost:8080/",
          "height": 424
        },
        "outputId": "d898d009-24c6-4307-8a8f-149d08c4d7dd"
      },
      "execution_count": null,
      "outputs": [
        {
          "output_type": "execute_result",
          "data": {
            "text/plain": [
              "      Number  StartMilliseconds  EndMilliseconds  \\\n",
              "0          1              52178            55014   \n",
              "1          2              55139            57516   \n",
              "2          3              57642            61854   \n",
              "3          4              61979            62855   \n",
              "4          5              62980            64357   \n",
              "...      ...                ...              ...   \n",
              "1120    1121            7429381          7435387   \n",
              "1121    1122            7437055          7441268   \n",
              "1122    1123            7441393          7447357   \n",
              "1123    1124            7449401          7454281   \n",
              "1124    1125            7456700          7459369   \n",
              "\n",
              "                                                   Text  TimeTaken  \n",
              "0          - Cheque, please.\\n- Look, Daddy, a volcano.      2.836  \n",
              "1            That's very pretty. Drink up your volcano.      2.377  \n",
              "2     - All right, we're going. Mummy's waiting.\\n- ...      4.212  \n",
              "3                                                   No.      0.876  \n",
              "4                                 - We're going.\\n- No.      1.377  \n",
              "...                                                 ...        ...  \n",
              "1120                       You said always and for ever      6.006  \n",
              "1121                            Now I believe you, baby      4.213  \n",
              "1122                       You said always and for ever      5.964  \n",
              "1123                           Such a long, lonely time      4.880  \n",
              "1124                                 Stuck inside of me      2.669  \n",
              "\n",
              "[1125 rows x 5 columns]"
            ],
            "text/html": [
              "\n",
              "  <div id=\"df-a96a0e35-d0e8-41fc-b49b-511a382ecce9\">\n",
              "    <div class=\"colab-df-container\">\n",
              "      <div>\n",
              "<style scoped>\n",
              "    .dataframe tbody tr th:only-of-type {\n",
              "        vertical-align: middle;\n",
              "    }\n",
              "\n",
              "    .dataframe tbody tr th {\n",
              "        vertical-align: top;\n",
              "    }\n",
              "\n",
              "    .dataframe thead th {\n",
              "        text-align: right;\n",
              "    }\n",
              "</style>\n",
              "<table border=\"1\" class=\"dataframe\">\n",
              "  <thead>\n",
              "    <tr style=\"text-align: right;\">\n",
              "      <th></th>\n",
              "      <th>Number</th>\n",
              "      <th>StartMilliseconds</th>\n",
              "      <th>EndMilliseconds</th>\n",
              "      <th>Text</th>\n",
              "      <th>TimeTaken</th>\n",
              "    </tr>\n",
              "  </thead>\n",
              "  <tbody>\n",
              "    <tr>\n",
              "      <th>0</th>\n",
              "      <td>1</td>\n",
              "      <td>52178</td>\n",
              "      <td>55014</td>\n",
              "      <td>- Cheque, please.\\n- Look, Daddy, a volcano.</td>\n",
              "      <td>2.836</td>\n",
              "    </tr>\n",
              "    <tr>\n",
              "      <th>1</th>\n",
              "      <td>2</td>\n",
              "      <td>55139</td>\n",
              "      <td>57516</td>\n",
              "      <td>That's very pretty. Drink up your volcano.</td>\n",
              "      <td>2.377</td>\n",
              "    </tr>\n",
              "    <tr>\n",
              "      <th>2</th>\n",
              "      <td>3</td>\n",
              "      <td>57642</td>\n",
              "      <td>61854</td>\n",
              "      <td>- All right, we're going. Mummy's waiting.\\n- ...</td>\n",
              "      <td>4.212</td>\n",
              "    </tr>\n",
              "    <tr>\n",
              "      <th>3</th>\n",
              "      <td>4</td>\n",
              "      <td>61979</td>\n",
              "      <td>62855</td>\n",
              "      <td>No.</td>\n",
              "      <td>0.876</td>\n",
              "    </tr>\n",
              "    <tr>\n",
              "      <th>4</th>\n",
              "      <td>5</td>\n",
              "      <td>62980</td>\n",
              "      <td>64357</td>\n",
              "      <td>- We're going.\\n- No.</td>\n",
              "      <td>1.377</td>\n",
              "    </tr>\n",
              "    <tr>\n",
              "      <th>...</th>\n",
              "      <td>...</td>\n",
              "      <td>...</td>\n",
              "      <td>...</td>\n",
              "      <td>...</td>\n",
              "      <td>...</td>\n",
              "    </tr>\n",
              "    <tr>\n",
              "      <th>1120</th>\n",
              "      <td>1121</td>\n",
              "      <td>7429381</td>\n",
              "      <td>7435387</td>\n",
              "      <td>You said always and for ever</td>\n",
              "      <td>6.006</td>\n",
              "    </tr>\n",
              "    <tr>\n",
              "      <th>1121</th>\n",
              "      <td>1122</td>\n",
              "      <td>7437055</td>\n",
              "      <td>7441268</td>\n",
              "      <td>Now I believe you, baby</td>\n",
              "      <td>4.213</td>\n",
              "    </tr>\n",
              "    <tr>\n",
              "      <th>1122</th>\n",
              "      <td>1123</td>\n",
              "      <td>7441393</td>\n",
              "      <td>7447357</td>\n",
              "      <td>You said always and for ever</td>\n",
              "      <td>5.964</td>\n",
              "    </tr>\n",
              "    <tr>\n",
              "      <th>1123</th>\n",
              "      <td>1124</td>\n",
              "      <td>7449401</td>\n",
              "      <td>7454281</td>\n",
              "      <td>Such a long, lonely time</td>\n",
              "      <td>4.880</td>\n",
              "    </tr>\n",
              "    <tr>\n",
              "      <th>1124</th>\n",
              "      <td>1125</td>\n",
              "      <td>7456700</td>\n",
              "      <td>7459369</td>\n",
              "      <td>Stuck inside of me</td>\n",
              "      <td>2.669</td>\n",
              "    </tr>\n",
              "  </tbody>\n",
              "</table>\n",
              "<p>1125 rows × 5 columns</p>\n",
              "</div>\n",
              "      <button class=\"colab-df-convert\" onclick=\"convertToInteractive('df-a96a0e35-d0e8-41fc-b49b-511a382ecce9')\"\n",
              "              title=\"Convert this dataframe to an interactive table.\"\n",
              "              style=\"display:none;\">\n",
              "        \n",
              "  <svg xmlns=\"http://www.w3.org/2000/svg\" height=\"24px\"viewBox=\"0 0 24 24\"\n",
              "       width=\"24px\">\n",
              "    <path d=\"M0 0h24v24H0V0z\" fill=\"none\"/>\n",
              "    <path d=\"M18.56 5.44l.94 2.06.94-2.06 2.06-.94-2.06-.94-.94-2.06-.94 2.06-2.06.94zm-11 1L8.5 8.5l.94-2.06 2.06-.94-2.06-.94L8.5 2.5l-.94 2.06-2.06.94zm10 10l.94 2.06.94-2.06 2.06-.94-2.06-.94-.94-2.06-.94 2.06-2.06.94z\"/><path d=\"M17.41 7.96l-1.37-1.37c-.4-.4-.92-.59-1.43-.59-.52 0-1.04.2-1.43.59L10.3 9.45l-7.72 7.72c-.78.78-.78 2.05 0 2.83L4 21.41c.39.39.9.59 1.41.59.51 0 1.02-.2 1.41-.59l7.78-7.78 2.81-2.81c.8-.78.8-2.07 0-2.86zM5.41 20L4 18.59l7.72-7.72 1.47 1.35L5.41 20z\"/>\n",
              "  </svg>\n",
              "      </button>\n",
              "      \n",
              "  <style>\n",
              "    .colab-df-container {\n",
              "      display:flex;\n",
              "      flex-wrap:wrap;\n",
              "      gap: 12px;\n",
              "    }\n",
              "\n",
              "    .colab-df-convert {\n",
              "      background-color: #E8F0FE;\n",
              "      border: none;\n",
              "      border-radius: 50%;\n",
              "      cursor: pointer;\n",
              "      display: none;\n",
              "      fill: #1967D2;\n",
              "      height: 32px;\n",
              "      padding: 0 0 0 0;\n",
              "      width: 32px;\n",
              "    }\n",
              "\n",
              "    .colab-df-convert:hover {\n",
              "      background-color: #E2EBFA;\n",
              "      box-shadow: 0px 1px 2px rgba(60, 64, 67, 0.3), 0px 1px 3px 1px rgba(60, 64, 67, 0.15);\n",
              "      fill: #174EA6;\n",
              "    }\n",
              "\n",
              "    [theme=dark] .colab-df-convert {\n",
              "      background-color: #3B4455;\n",
              "      fill: #D2E3FC;\n",
              "    }\n",
              "\n",
              "    [theme=dark] .colab-df-convert:hover {\n",
              "      background-color: #434B5C;\n",
              "      box-shadow: 0px 1px 3px 1px rgba(0, 0, 0, 0.15);\n",
              "      filter: drop-shadow(0px 1px 2px rgba(0, 0, 0, 0.3));\n",
              "      fill: #FFFFFF;\n",
              "    }\n",
              "  </style>\n",
              "\n",
              "      <script>\n",
              "        const buttonEl =\n",
              "          document.querySelector('#df-a96a0e35-d0e8-41fc-b49b-511a382ecce9 button.colab-df-convert');\n",
              "        buttonEl.style.display =\n",
              "          google.colab.kernel.accessAllowed ? 'block' : 'none';\n",
              "\n",
              "        async function convertToInteractive(key) {\n",
              "          const element = document.querySelector('#df-a96a0e35-d0e8-41fc-b49b-511a382ecce9');\n",
              "          const dataTable =\n",
              "            await google.colab.kernel.invokeFunction('convertToInteractive',\n",
              "                                                     [key], {});\n",
              "          if (!dataTable) return;\n",
              "\n",
              "          const docLinkHtml = 'Like what you see? Visit the ' +\n",
              "            '<a target=\"_blank\" href=https://colab.research.google.com/notebooks/data_table.ipynb>data table notebook</a>'\n",
              "            + ' to learn more about interactive tables.';\n",
              "          element.innerHTML = '';\n",
              "          dataTable['output_type'] = 'display_data';\n",
              "          await google.colab.output.renderOutput(dataTable, element);\n",
              "          const docLink = document.createElement('div');\n",
              "          docLink.innerHTML = docLinkHtml;\n",
              "          element.appendChild(docLink);\n",
              "        }\n",
              "      </script>\n",
              "    </div>\n",
              "  </div>\n",
              "  "
            ]
          },
          "metadata": {},
          "execution_count": 36
        }
      ]
    },
    {
      "cell_type": "code",
      "source": [
        "# def segmentation_2(df,num_scenes):\n",
        "#   sentences_per_row = len(df)//(num_scenes)\n",
        "\n",
        "#   df_merged = df.groupby(df.index // sentences_per_row).apply(lambda x: pd.Series({\n",
        "#       'Scene': x.index[0] // sentences_per_row + 1,\n",
        "#       'Text': ' '.join(x['Text'])\n",
        "\n",
        "#   }))\n",
        "\n",
        "#   df_merged = df_merged.reset_index(drop=True)\n",
        "#   return df_merged\n",
        "# dfl1_merged=segmentation_2(dfl1,110)\n",
        "# dfl1_merged"
      ],
      "metadata": {
        "id": "zE9aVMPzGSk3"
      },
      "execution_count": null,
      "outputs": []
    },
    {
      "cell_type": "markdown",
      "source": [
        "#Segmentation 2 function\n"
      ],
      "metadata": {
        "id": "tjLSLEsOZTeu"
      }
    },
    {
      "cell_type": "code",
      "source": [
        "import pandas as pd\n",
        "\n",
        "def segmentation_2(df, num_scenes):\n",
        "    sentences_per_row = len(df) // num_scenes\n",
        "\n",
        "    scenes = []\n",
        "    texts = []\n",
        "    time_taken = []\n",
        "    num_words = []  # Added list to store the number of words\n",
        "\n",
        "    scene_number = 1\n",
        "\n",
        "    for i in range(0, len(df), sentences_per_row):\n",
        "        scene_texts = df['Text'].iloc[i:i+sentences_per_row].tolist()\n",
        "        scene_text = ' '.join(scene_texts)\n",
        "\n",
        "        scenes.append(scene_number)\n",
        "        texts.append(scene_text)\n",
        "        time_taken.append(df['TimeTaken'].iloc[i:i+sentences_per_row].sum())\n",
        "\n",
        "        # Count the number of words in the merged text\n",
        "        num_words.append(len(scene_text.split()))\n",
        "\n",
        "        scene_number += 1\n",
        "\n",
        "    df_merged = pd.DataFrame({\n",
        "        'Scene': scenes,\n",
        "        'Text': texts,\n",
        "        'TimeTaken': time_taken,\n",
        "        'NumberOfWords': num_words  # Added 'NumberOfWords' column\n",
        "    })\n",
        "\n",
        "    return df_merged\n"
      ],
      "metadata": {
        "id": "axREGDvFVGSk"
      },
      "execution_count": null,
      "outputs": []
    },
    {
      "cell_type": "code",
      "source": [
        "df1_merged=segmentation_2(df1,110)\n",
        "df1_merged.describe()"
      ],
      "metadata": {
        "colab": {
          "base_uri": "https://localhost:8080/",
          "height": 300
        },
        "id": "HUbY4U4FFXLn",
        "outputId": "39702fae-3596-4765-9a74-2611d21dd499"
      },
      "execution_count": null,
      "outputs": [
        {
          "output_type": "execute_result",
          "data": {
            "text/plain": [
              "            Scene   TimeTaken  NumberOfWords\n",
              "count  116.000000  116.000000     116.000000\n",
              "mean    58.500000   37.706052     129.939655\n",
              "std     33.630343    4.408686      24.858657\n",
              "min      1.000000   22.995000      26.000000\n",
              "25%     29.750000   34.481250     115.750000\n",
              "50%     58.500000   37.350000     131.000000\n",
              "75%     87.250000   40.142250     146.250000\n",
              "max    116.000000   49.776000     188.000000"
            ],
            "text/html": [
              "\n",
              "  <div id=\"df-594a04a2-e8db-4231-9ae0-eda5aa5aeee1\">\n",
              "    <div class=\"colab-df-container\">\n",
              "      <div>\n",
              "<style scoped>\n",
              "    .dataframe tbody tr th:only-of-type {\n",
              "        vertical-align: middle;\n",
              "    }\n",
              "\n",
              "    .dataframe tbody tr th {\n",
              "        vertical-align: top;\n",
              "    }\n",
              "\n",
              "    .dataframe thead th {\n",
              "        text-align: right;\n",
              "    }\n",
              "</style>\n",
              "<table border=\"1\" class=\"dataframe\">\n",
              "  <thead>\n",
              "    <tr style=\"text-align: right;\">\n",
              "      <th></th>\n",
              "      <th>Scene</th>\n",
              "      <th>TimeTaken</th>\n",
              "      <th>NumberOfWords</th>\n",
              "    </tr>\n",
              "  </thead>\n",
              "  <tbody>\n",
              "    <tr>\n",
              "      <th>count</th>\n",
              "      <td>116.000000</td>\n",
              "      <td>116.000000</td>\n",
              "      <td>116.000000</td>\n",
              "    </tr>\n",
              "    <tr>\n",
              "      <th>mean</th>\n",
              "      <td>58.500000</td>\n",
              "      <td>37.706052</td>\n",
              "      <td>129.939655</td>\n",
              "    </tr>\n",
              "    <tr>\n",
              "      <th>std</th>\n",
              "      <td>33.630343</td>\n",
              "      <td>4.408686</td>\n",
              "      <td>24.858657</td>\n",
              "    </tr>\n",
              "    <tr>\n",
              "      <th>min</th>\n",
              "      <td>1.000000</td>\n",
              "      <td>22.995000</td>\n",
              "      <td>26.000000</td>\n",
              "    </tr>\n",
              "    <tr>\n",
              "      <th>25%</th>\n",
              "      <td>29.750000</td>\n",
              "      <td>34.481250</td>\n",
              "      <td>115.750000</td>\n",
              "    </tr>\n",
              "    <tr>\n",
              "      <th>50%</th>\n",
              "      <td>58.500000</td>\n",
              "      <td>37.350000</td>\n",
              "      <td>131.000000</td>\n",
              "    </tr>\n",
              "    <tr>\n",
              "      <th>75%</th>\n",
              "      <td>87.250000</td>\n",
              "      <td>40.142250</td>\n",
              "      <td>146.250000</td>\n",
              "    </tr>\n",
              "    <tr>\n",
              "      <th>max</th>\n",
              "      <td>116.000000</td>\n",
              "      <td>49.776000</td>\n",
              "      <td>188.000000</td>\n",
              "    </tr>\n",
              "  </tbody>\n",
              "</table>\n",
              "</div>\n",
              "      <button class=\"colab-df-convert\" onclick=\"convertToInteractive('df-594a04a2-e8db-4231-9ae0-eda5aa5aeee1')\"\n",
              "              title=\"Convert this dataframe to an interactive table.\"\n",
              "              style=\"display:none;\">\n",
              "        \n",
              "  <svg xmlns=\"http://www.w3.org/2000/svg\" height=\"24px\"viewBox=\"0 0 24 24\"\n",
              "       width=\"24px\">\n",
              "    <path d=\"M0 0h24v24H0V0z\" fill=\"none\"/>\n",
              "    <path d=\"M18.56 5.44l.94 2.06.94-2.06 2.06-.94-2.06-.94-.94-2.06-.94 2.06-2.06.94zm-11 1L8.5 8.5l.94-2.06 2.06-.94-2.06-.94L8.5 2.5l-.94 2.06-2.06.94zm10 10l.94 2.06.94-2.06 2.06-.94-2.06-.94-.94-2.06-.94 2.06-2.06.94z\"/><path d=\"M17.41 7.96l-1.37-1.37c-.4-.4-.92-.59-1.43-.59-.52 0-1.04.2-1.43.59L10.3 9.45l-7.72 7.72c-.78.78-.78 2.05 0 2.83L4 21.41c.39.39.9.59 1.41.59.51 0 1.02-.2 1.41-.59l7.78-7.78 2.81-2.81c.8-.78.8-2.07 0-2.86zM5.41 20L4 18.59l7.72-7.72 1.47 1.35L5.41 20z\"/>\n",
              "  </svg>\n",
              "      </button>\n",
              "      \n",
              "  <style>\n",
              "    .colab-df-container {\n",
              "      display:flex;\n",
              "      flex-wrap:wrap;\n",
              "      gap: 12px;\n",
              "    }\n",
              "\n",
              "    .colab-df-convert {\n",
              "      background-color: #E8F0FE;\n",
              "      border: none;\n",
              "      border-radius: 50%;\n",
              "      cursor: pointer;\n",
              "      display: none;\n",
              "      fill: #1967D2;\n",
              "      height: 32px;\n",
              "      padding: 0 0 0 0;\n",
              "      width: 32px;\n",
              "    }\n",
              "\n",
              "    .colab-df-convert:hover {\n",
              "      background-color: #E2EBFA;\n",
              "      box-shadow: 0px 1px 2px rgba(60, 64, 67, 0.3), 0px 1px 3px 1px rgba(60, 64, 67, 0.15);\n",
              "      fill: #174EA6;\n",
              "    }\n",
              "\n",
              "    [theme=dark] .colab-df-convert {\n",
              "      background-color: #3B4455;\n",
              "      fill: #D2E3FC;\n",
              "    }\n",
              "\n",
              "    [theme=dark] .colab-df-convert:hover {\n",
              "      background-color: #434B5C;\n",
              "      box-shadow: 0px 1px 3px 1px rgba(0, 0, 0, 0.15);\n",
              "      filter: drop-shadow(0px 1px 2px rgba(0, 0, 0, 0.3));\n",
              "      fill: #FFFFFF;\n",
              "    }\n",
              "  </style>\n",
              "\n",
              "      <script>\n",
              "        const buttonEl =\n",
              "          document.querySelector('#df-594a04a2-e8db-4231-9ae0-eda5aa5aeee1 button.colab-df-convert');\n",
              "        buttonEl.style.display =\n",
              "          google.colab.kernel.accessAllowed ? 'block' : 'none';\n",
              "\n",
              "        async function convertToInteractive(key) {\n",
              "          const element = document.querySelector('#df-594a04a2-e8db-4231-9ae0-eda5aa5aeee1');\n",
              "          const dataTable =\n",
              "            await google.colab.kernel.invokeFunction('convertToInteractive',\n",
              "                                                     [key], {});\n",
              "          if (!dataTable) return;\n",
              "\n",
              "          const docLinkHtml = 'Like what you see? Visit the ' +\n",
              "            '<a target=\"_blank\" href=https://colab.research.google.com/notebooks/data_table.ipynb>data table notebook</a>'\n",
              "            + ' to learn more about interactive tables.';\n",
              "          element.innerHTML = '';\n",
              "          dataTable['output_type'] = 'display_data';\n",
              "          await google.colab.output.renderOutput(dataTable, element);\n",
              "          const docLink = document.createElement('div');\n",
              "          docLink.innerHTML = docLinkHtml;\n",
              "          element.appendChild(docLink);\n",
              "        }\n",
              "      </script>\n",
              "    </div>\n",
              "  </div>\n",
              "  "
            ]
          },
          "metadata": {},
          "execution_count": 39
        }
      ]
    },
    {
      "cell_type": "markdown",
      "source": [
        "#Merged Function"
      ],
      "metadata": {
        "id": "H1p6P1RpZN9n"
      }
    },
    {
      "cell_type": "code",
      "source": [
        "def merged(l):\n",
        "  merged = {}\n",
        "  for i in range(len(l)):\n",
        "      new_dfname = f\"df{i+1}_merged\"\n",
        "      new_df = segmentation_2(l[i], 110)\n",
        "      merged[new_dfname]=new_df\n",
        "  return merged\n",
        "middle_merged=merged(middle)\n",
        "lower_merged=merged(lower)\n",
        "upper_merged=merged(upper)\n",
        "upper_merged"
      ],
      "metadata": {
        "id": "Kq0kdNiSHuun"
      },
      "execution_count": null,
      "outputs": []
    },
    {
      "cell_type": "markdown",
      "source": [
        "#cleaning"
      ],
      "metadata": {
        "id": "39LhyzhzZt3i"
      }
    },
    {
      "cell_type": "code",
      "source": [
        "import spacy\n",
        "nlp=spacy.load(\"en_core_web_sm\")\n",
        "def pos_removal(s):\n",
        "    doc = nlp(s)\n",
        "    modified = ' '.join([str(token) for token in doc if token.pos_ not in ['DET', 'NUM','PUNCT', 'PROPN','SYM']])\n",
        "    return modified"
      ],
      "metadata": {
        "id": "KfxPeZAkaUyx"
      },
      "execution_count": null,
      "outputs": []
    },
    {
      "cell_type": "code",
      "source": [
        "!pip install contractions -q"
      ],
      "metadata": {
        "colab": {
          "base_uri": "https://localhost:8080/"
        },
        "id": "6vDrDTk9B-dR",
        "outputId": "2ac7fe0a-3089-4344-df61-371ce9cf62da"
      },
      "execution_count": null,
      "outputs": [
        {
          "output_type": "stream",
          "name": "stdout",
          "text": [
            "Looking in indexes: https://pypi.org/simple, https://us-python.pkg.dev/colab-wheels/public/simple/\n",
            "Collecting contractions\n",
            "  Downloading contractions-0.1.73-py2.py3-none-any.whl (8.7 kB)\n",
            "Collecting textsearch>=0.0.21 (from contractions)\n",
            "  Downloading textsearch-0.0.24-py2.py3-none-any.whl (7.6 kB)\n",
            "Collecting anyascii (from textsearch>=0.0.21->contractions)\n",
            "  Downloading anyascii-0.3.2-py3-none-any.whl (289 kB)\n",
            "\u001b[2K     \u001b[90m━━━━━━━━━━━━━━━━━━━━━━━━━━━━━━━━━━━━━━━\u001b[0m \u001b[32m289.9/289.9 kB\u001b[0m \u001b[31m6.3 MB/s\u001b[0m eta \u001b[36m0:00:00\u001b[0m\n",
            "\u001b[?25hCollecting pyahocorasick (from textsearch>=0.0.21->contractions)\n",
            "  Downloading pyahocorasick-2.0.0-cp310-cp310-manylinux_2_5_x86_64.manylinux1_x86_64.manylinux_2_12_x86_64.manylinux2010_x86_64.whl (110 kB)\n",
            "\u001b[2K     \u001b[90m━━━━━━━━━━━━━━━━━━━━━━━━━━━━━━━━━━━━━━\u001b[0m \u001b[32m110.8/110.8 kB\u001b[0m \u001b[31m12.4 MB/s\u001b[0m eta \u001b[36m0:00:00\u001b[0m\n",
            "\u001b[?25hInstalling collected packages: pyahocorasick, anyascii, textsearch, contractions\n",
            "Successfully installed anyascii-0.3.2 contractions-0.1.73 pyahocorasick-2.0.0 textsearch-0.0.24\n"
          ]
        }
      ]
    },
    {
      "cell_type": "code",
      "source": [
        "import contractions\n",
        "\n",
        "contractions.add(['bruv','bro','bruh'], 'brother')\n",
        "contractions.add('salty','jealous')\n",
        "contractions.add(['ma','mom'],'mother')\n",
        "contractions.add(['pops','papa'],'father')\n",
        "contractions.add(['nuts'],'crazy')\n",
        "def slang(s):\n",
        "  text = contractions.fix(s, slang=True)\n",
        "  return text"
      ],
      "metadata": {
        "id": "p1B-f9qVZ68R"
      },
      "execution_count": null,
      "outputs": []
    },
    {
      "cell_type": "code",
      "source": [
        "def cleaning(d):\n",
        "  for i in d:\n",
        "    d[i]['Text'] = d[i]['Text'].str.replace('♪', '')\n",
        "    d[i]['Text'] = d[i]['Text'].str.replace('\\n', ' ')\n",
        "    d[i]['clean_text']=d[i]['Text'].apply(slang)\n",
        "    d[i]['clean_text']=d[i]['clean_text'].apply(pos_removal)\n",
        "  return d\n",
        "middle_merged_clean=cleaning(middle_merged)\n",
        "lower_merged_clean=cleaning(lower_merged)\n",
        "upper_merged_clean=cleaning(upper_merged)"
      ],
      "metadata": {
        "id": "3akym1_WZyeU"
      },
      "execution_count": null,
      "outputs": []
    },
    {
      "cell_type": "code",
      "source": [
        "upper_merged_clean['df10_merged']"
      ],
      "metadata": {
        "colab": {
          "base_uri": "https://localhost:8080/",
          "height": 424
        },
        "id": "JIqJgXELMuHg",
        "outputId": "11dab2cd-1e90-4e23-951b-bfd4ac0ed398"
      },
      "execution_count": null,
      "outputs": [
        {
          "output_type": "execute_result",
          "data": {
            "text/plain": [
              "     Scene                                               Text  TimeTaken  \\\n",
              "0        1  - Good morning, Miss Ratched. - Good morning. ...     36.477   \n",
              "1        2  Whoo! Hi. - Mr. McMurphy's here. - All right. ...     33.686   \n",
              "2        3  How. Come on, Billy. Club lead. Jack of clubs....     30.226   \n",
              "3        4  - You're avoiding spades? - Mm-hm. - Oh, okay....     39.150   \n",
              "4        5  Yes? - Mr. McMurphy's here, doc. - Good, have ...     31.393   \n",
              "..     ...                                                ...        ...   \n",
              "109    110  - Come on, clear it. - Get these people out of...     34.978   \n",
              "110    111  - and a 10 to the dealer. - A nine? Nine? What...     26.429   \n",
              "111    112  I know you're over. That's a three. Mr. Sefelt...     31.894   \n",
              "112    113  and he's as meek as a lamb. Really? I mean, ho...     41.234   \n",
              "113    114             Let's go. Subtitles by SDI Media Group      3.501   \n",
              "\n",
              "     NumberOfWords                                         clean_text  \n",
              "0               68  Good morning Good morning Good morning Good mo...  \n",
              "1               67  's here All right Thank you All right I am rea...  \n",
              "2               79  How Come on Club lead of clubs ha Uh - oh What...  \n",
              "3              123  You are avoiding spades hm Oh okay You sure yo...  \n",
              "4               99  Yes 's here have him come in Thank you I am wh...  \n",
              "..             ...                                                ...  \n",
              "109             88  Come on clear it Get people out of here Oh Wil...  \n",
              "110             77  and to dealer What do you say dime apiece No Y...  \n",
              "111             68  I know you are over That is Did everything go ...  \n",
              "112             85  and he is as meek as lamb Really I mean how do...  \n",
              "113              7                             Let us go Subtitles by  \n",
              "\n",
              "[114 rows x 5 columns]"
            ],
            "text/html": [
              "\n",
              "  <div id=\"df-82d4ec9e-76ad-4019-84e4-389bf433eac7\">\n",
              "    <div class=\"colab-df-container\">\n",
              "      <div>\n",
              "<style scoped>\n",
              "    .dataframe tbody tr th:only-of-type {\n",
              "        vertical-align: middle;\n",
              "    }\n",
              "\n",
              "    .dataframe tbody tr th {\n",
              "        vertical-align: top;\n",
              "    }\n",
              "\n",
              "    .dataframe thead th {\n",
              "        text-align: right;\n",
              "    }\n",
              "</style>\n",
              "<table border=\"1\" class=\"dataframe\">\n",
              "  <thead>\n",
              "    <tr style=\"text-align: right;\">\n",
              "      <th></th>\n",
              "      <th>Scene</th>\n",
              "      <th>Text</th>\n",
              "      <th>TimeTaken</th>\n",
              "      <th>NumberOfWords</th>\n",
              "      <th>clean_text</th>\n",
              "    </tr>\n",
              "  </thead>\n",
              "  <tbody>\n",
              "    <tr>\n",
              "      <th>0</th>\n",
              "      <td>1</td>\n",
              "      <td>- Good morning, Miss Ratched. - Good morning. ...</td>\n",
              "      <td>36.477</td>\n",
              "      <td>68</td>\n",
              "      <td>Good morning Good morning Good morning Good mo...</td>\n",
              "    </tr>\n",
              "    <tr>\n",
              "      <th>1</th>\n",
              "      <td>2</td>\n",
              "      <td>Whoo! Hi. - Mr. McMurphy's here. - All right. ...</td>\n",
              "      <td>33.686</td>\n",
              "      <td>67</td>\n",
              "      <td>'s here All right Thank you All right I am rea...</td>\n",
              "    </tr>\n",
              "    <tr>\n",
              "      <th>2</th>\n",
              "      <td>3</td>\n",
              "      <td>How. Come on, Billy. Club lead. Jack of clubs....</td>\n",
              "      <td>30.226</td>\n",
              "      <td>79</td>\n",
              "      <td>How Come on Club lead of clubs ha Uh - oh What...</td>\n",
              "    </tr>\n",
              "    <tr>\n",
              "      <th>3</th>\n",
              "      <td>4</td>\n",
              "      <td>- You're avoiding spades? - Mm-hm. - Oh, okay....</td>\n",
              "      <td>39.150</td>\n",
              "      <td>123</td>\n",
              "      <td>You are avoiding spades hm Oh okay You sure yo...</td>\n",
              "    </tr>\n",
              "    <tr>\n",
              "      <th>4</th>\n",
              "      <td>5</td>\n",
              "      <td>Yes? - Mr. McMurphy's here, doc. - Good, have ...</td>\n",
              "      <td>31.393</td>\n",
              "      <td>99</td>\n",
              "      <td>Yes 's here have him come in Thank you I am wh...</td>\n",
              "    </tr>\n",
              "    <tr>\n",
              "      <th>...</th>\n",
              "      <td>...</td>\n",
              "      <td>...</td>\n",
              "      <td>...</td>\n",
              "      <td>...</td>\n",
              "      <td>...</td>\n",
              "    </tr>\n",
              "    <tr>\n",
              "      <th>109</th>\n",
              "      <td>110</td>\n",
              "      <td>- Come on, clear it. - Get these people out of...</td>\n",
              "      <td>34.978</td>\n",
              "      <td>88</td>\n",
              "      <td>Come on clear it Get people out of here Oh Wil...</td>\n",
              "    </tr>\n",
              "    <tr>\n",
              "      <th>110</th>\n",
              "      <td>111</td>\n",
              "      <td>- and a 10 to the dealer. - A nine? Nine? What...</td>\n",
              "      <td>26.429</td>\n",
              "      <td>77</td>\n",
              "      <td>and to dealer What do you say dime apiece No Y...</td>\n",
              "    </tr>\n",
              "    <tr>\n",
              "      <th>111</th>\n",
              "      <td>112</td>\n",
              "      <td>I know you're over. That's a three. Mr. Sefelt...</td>\n",
              "      <td>31.894</td>\n",
              "      <td>68</td>\n",
              "      <td>I know you are over That is Did everything go ...</td>\n",
              "    </tr>\n",
              "    <tr>\n",
              "      <th>112</th>\n",
              "      <td>113</td>\n",
              "      <td>and he's as meek as a lamb. Really? I mean, ho...</td>\n",
              "      <td>41.234</td>\n",
              "      <td>85</td>\n",
              "      <td>and he is as meek as lamb Really I mean how do...</td>\n",
              "    </tr>\n",
              "    <tr>\n",
              "      <th>113</th>\n",
              "      <td>114</td>\n",
              "      <td>Let's go. Subtitles by SDI Media Group</td>\n",
              "      <td>3.501</td>\n",
              "      <td>7</td>\n",
              "      <td>Let us go Subtitles by</td>\n",
              "    </tr>\n",
              "  </tbody>\n",
              "</table>\n",
              "<p>114 rows × 5 columns</p>\n",
              "</div>\n",
              "      <button class=\"colab-df-convert\" onclick=\"convertToInteractive('df-82d4ec9e-76ad-4019-84e4-389bf433eac7')\"\n",
              "              title=\"Convert this dataframe to an interactive table.\"\n",
              "              style=\"display:none;\">\n",
              "        \n",
              "  <svg xmlns=\"http://www.w3.org/2000/svg\" height=\"24px\"viewBox=\"0 0 24 24\"\n",
              "       width=\"24px\">\n",
              "    <path d=\"M0 0h24v24H0V0z\" fill=\"none\"/>\n",
              "    <path d=\"M18.56 5.44l.94 2.06.94-2.06 2.06-.94-2.06-.94-.94-2.06-.94 2.06-2.06.94zm-11 1L8.5 8.5l.94-2.06 2.06-.94-2.06-.94L8.5 2.5l-.94 2.06-2.06.94zm10 10l.94 2.06.94-2.06 2.06-.94-2.06-.94-.94-2.06-.94 2.06-2.06.94z\"/><path d=\"M17.41 7.96l-1.37-1.37c-.4-.4-.92-.59-1.43-.59-.52 0-1.04.2-1.43.59L10.3 9.45l-7.72 7.72c-.78.78-.78 2.05 0 2.83L4 21.41c.39.39.9.59 1.41.59.51 0 1.02-.2 1.41-.59l7.78-7.78 2.81-2.81c.8-.78.8-2.07 0-2.86zM5.41 20L4 18.59l7.72-7.72 1.47 1.35L5.41 20z\"/>\n",
              "  </svg>\n",
              "      </button>\n",
              "      \n",
              "  <style>\n",
              "    .colab-df-container {\n",
              "      display:flex;\n",
              "      flex-wrap:wrap;\n",
              "      gap: 12px;\n",
              "    }\n",
              "\n",
              "    .colab-df-convert {\n",
              "      background-color: #E8F0FE;\n",
              "      border: none;\n",
              "      border-radius: 50%;\n",
              "      cursor: pointer;\n",
              "      display: none;\n",
              "      fill: #1967D2;\n",
              "      height: 32px;\n",
              "      padding: 0 0 0 0;\n",
              "      width: 32px;\n",
              "    }\n",
              "\n",
              "    .colab-df-convert:hover {\n",
              "      background-color: #E2EBFA;\n",
              "      box-shadow: 0px 1px 2px rgba(60, 64, 67, 0.3), 0px 1px 3px 1px rgba(60, 64, 67, 0.15);\n",
              "      fill: #174EA6;\n",
              "    }\n",
              "\n",
              "    [theme=dark] .colab-df-convert {\n",
              "      background-color: #3B4455;\n",
              "      fill: #D2E3FC;\n",
              "    }\n",
              "\n",
              "    [theme=dark] .colab-df-convert:hover {\n",
              "      background-color: #434B5C;\n",
              "      box-shadow: 0px 1px 3px 1px rgba(0, 0, 0, 0.15);\n",
              "      filter: drop-shadow(0px 1px 2px rgba(0, 0, 0, 0.3));\n",
              "      fill: #FFFFFF;\n",
              "    }\n",
              "  </style>\n",
              "\n",
              "      <script>\n",
              "        const buttonEl =\n",
              "          document.querySelector('#df-82d4ec9e-76ad-4019-84e4-389bf433eac7 button.colab-df-convert');\n",
              "        buttonEl.style.display =\n",
              "          google.colab.kernel.accessAllowed ? 'block' : 'none';\n",
              "\n",
              "        async function convertToInteractive(key) {\n",
              "          const element = document.querySelector('#df-82d4ec9e-76ad-4019-84e4-389bf433eac7');\n",
              "          const dataTable =\n",
              "            await google.colab.kernel.invokeFunction('convertToInteractive',\n",
              "                                                     [key], {});\n",
              "          if (!dataTable) return;\n",
              "\n",
              "          const docLinkHtml = 'Like what you see? Visit the ' +\n",
              "            '<a target=\"_blank\" href=https://colab.research.google.com/notebooks/data_table.ipynb>data table notebook</a>'\n",
              "            + ' to learn more about interactive tables.';\n",
              "          element.innerHTML = '';\n",
              "          dataTable['output_type'] = 'display_data';\n",
              "          await google.colab.output.renderOutput(dataTable, element);\n",
              "          const docLink = document.createElement('div');\n",
              "          docLink.innerHTML = docLinkHtml;\n",
              "          element.appendChild(docLink);\n",
              "        }\n",
              "      </script>\n",
              "    </div>\n",
              "  </div>\n",
              "  "
            ]
          },
          "metadata": {},
          "execution_count": 53
        }
      ]
    },
    {
      "cell_type": "markdown",
      "source": [
        "#Graph"
      ],
      "metadata": {
        "id": "IO5FSOe8gpTZ"
      }
    },
    {
      "cell_type": "code",
      "source": [
        "import seaborn as sns\n",
        "import matplotlib.pyplot as plt\n",
        "from plotly.offline import iplot\n",
        "def graph(d,num):\n",
        "  max_len=d[f'df{num}_merged'].NumberOfWords.max()\n",
        "  plt.figure(figsize= (8, 8))\n",
        "  sns.displot(d[f'df{num}_merged']['NumberOfWords'])\n",
        "  plt.xlim(0, max_len+50)\n",
        "  plt.xlabel('The num of words ', fontsize = 16)\n",
        "  plt.title(\"The Number of Words Distribution\", fontsize = 18)\n",
        "  plt.show()\n",
        "graph(lower_merged_clean,16)"
      ],
      "metadata": {
        "id": "fPG_86JlndG8",
        "outputId": "5ea5df1e-eef5-4c15-a0a6-344965ee759f",
        "colab": {
          "base_uri": "https://localhost:8080/",
          "height": 557
        }
      },
      "execution_count": null,
      "outputs": [
        {
          "output_type": "display_data",
          "data": {
            "text/plain": [
              "<Figure size 800x800 with 0 Axes>"
            ]
          },
          "metadata": {}
        },
        {
          "output_type": "display_data",
          "data": {
            "text/plain": [
              "<Figure size 500x500 with 1 Axes>"
            ],
            "image/png": "[encoded data removed]"
          },
          "metadata": {}
        }
      ]
    },
    {
      "cell_type": "code",
      "execution_count": null,
      "metadata": {
        "id": "KoFbZF45rOCe"
      },
      "outputs": [],
      "source": [
        "!pip install transformers -q\n",
        "from transformers import pipeline\n"
      ]
    },
    {
      "cell_type": "code",
      "source": [
        "emotion = pipeline('sentiment-analysis', model='arpanghoshal/EmoRoBERTa')"
      ],
      "metadata": {
        "colab": {
          "base_uri": "https://localhost:8080/"
        },
        "id": "CSHdKxesI6Oc",
        "outputId": "16adfec8-548e-476f-9a62-6ad42bae7b96"
      },
      "execution_count": null,
      "outputs": [
        {
          "output_type": "stream",
          "name": "stderr",
          "text": [
            "All model checkpoint layers were used when initializing TFRobertaForSequenceClassification.\n",
            "\n",
            "All the layers of TFRobertaForSequenceClassification were initialized from the model checkpoint at arpanghoshal/EmoRoBERTa.\n",
            "If your task is similar to the task the model of the checkpoint was trained on, you can already use TFRobertaForSequenceClassification for predictions without further training.\n"
          ]
        }
      ]
    },
    {
      "cell_type": "code",
      "source": [
        "def get_emotion_label(text):\n",
        "  return(emotion(text)[0]['label'])"
      ],
      "metadata": {
        "id": "rbkeciHOJMIq"
      },
      "execution_count": null,
      "outputs": []
    },
    {
      "cell_type": "code",
      "source": [
        "upper_merged_clean['df10_merged']['emotion'] = upper_merged_clean['df10_merged']['clean_text'].apply(get_emotion_label)"
      ],
      "metadata": {
        "id": "6hbX0I7lJxbL"
      },
      "execution_count": null,
      "outputs": []
    },
    {
      "cell_type": "code",
      "source": [
        "upper_merged_clean['df10_merged']['emotion'][9]"
      ],
      "metadata": {
        "colab": {
          "base_uri": "https://localhost:8080/",
          "height": 35
        },
        "id": "Yct9Ep-PM0V2",
        "outputId": "ad26c6f9-59a6-4515-b947-75801c416190"
      },
      "execution_count": null,
      "outputs": [
        {
          "output_type": "execute_result",
          "data": {
            "text/plain": [
              "'anger'"
            ],
            "application/vnd.google.colaboratory.intrinsic+json": {
              "type": "string"
            }
          },
          "metadata": {},
          "execution_count": 57
        }
      ]
    },
    {
      "cell_type": "code",
      "source": [
        "upper_merged_clean['df10_merged']['Text'][9]"
      ],
      "metadata": {
        "colab": {
          "base_uri": "https://localhost:8080/",
          "height": 87
        },
        "id": "G3-q8ixlNNHD",
        "outputId": "265b9449-85d6-40c5-fc47-af04d0da875e"
      },
      "execution_count": null,
      "outputs": [
        {
          "output_type": "execute_result",
          "data": {
            "text/plain": [
              "\"But no more, no less. That's it. Well, to be honest with you, McMurphy, what it says here... is that... they think... They think... you've been faking it in order to get out of your work detail. - What do you think about that? - Do I look like that kind of guy to you, doc? Well... Let's just be frank for a minute, Randall, if you would. Tell me... do you think there's anything wrong with your mind, really? Not a thing, doc. I'm a goddamn marvel of modern science. Well, you're gonna be here for a period for us to evaluate you.\""
            ],
            "application/vnd.google.colaboratory.intrinsic+json": {
              "type": "string"
            }
          },
          "metadata": {},
          "execution_count": 58
        }
      ]
    },
    {
      "cell_type": "code",
      "source": [
        "def emotion_label(dic):\n",
        "  for i in dic:\n",
        "    dic[i]['emotion']=dic[i]['clean_text'].apply(get_emotion_label)\n"
      ],
      "metadata": {
        "id": "WvN2nnf-NWPu"
      },
      "execution_count": null,
      "outputs": []
    },
    {
      "cell_type": "code",
      "source": [
        "emotion_label(upper_merged_clean)"
      ],
      "metadata": {
        "id": "x0rXsEd6OA7c"
      },
      "execution_count": null,
      "outputs": []
    },
    {
      "cell_type": "code",
      "source": [
        "import seaborn as sns\n",
        "def emo_graph(d,num):\n",
        "  sns.countplot(data = d[f'df{num}_merged'], y = 'emotion').set_title(\"Emotion Distribution\")"
      ],
      "metadata": {
        "id": "gAv3h8wyOIeD"
      },
      "execution_count": null,
      "outputs": []
    },
    {
      "cell_type": "code",
      "source": [
        "upper_merged_clean"
      ],
      "metadata": {
        "id": "1-6xNEqfSRhI"
      },
      "execution_count": null,
      "outputs": []
    },
    {
      "cell_type": "code",
      "source": [
        "for i in upper_merged_clean:\n",
        "  submission3 = pd.DataFrame(upper_merged_clean[i])\n",
        "  submission3.to_csv(f'{i}u.csv', index=False)"
      ],
      "metadata": {
        "id": "_jnIIMbUY6-M"
      },
      "execution_count": null,
      "outputs": []
    },
    {
      "cell_type": "code",
      "source": [
        "emotion_label(lower_merged_clean)\n",
        "emotion_label(middle_merged_clean)"
      ],
      "metadata": {
        "id": "xjhKH7S2ZizZ"
      },
      "execution_count": null,
      "outputs": []
    },
    {
      "cell_type": "code",
      "source": [
        "target_folder_path = '/content/drive/MyDrive/Movies_final /lower'\n",
        "\n",
        "import os\n",
        "\n",
        "# Save each DataFrame as a CSV file in the Google Drive folder\n",
        "for i in lower_merged_clean:\n",
        "    submission3 = pd.DataFrame(lower_merged_clean[i])\n",
        "    csv_filename = f'{i}l.csv'\n",
        "    csv_filepath = os.path.join(target_folder_path, csv_filename)\n",
        "\n",
        "    # Save the DataFrame as a CSV file\n",
        "    submission3.to_csv(csv_filepath, index=False)\n",
        "\n",
        "    # Print the saved file path\n",
        "    print(f\"CSV file saved: {csv_filepath}\")"
      ],
      "metadata": {
        "colab": {
          "base_uri": "https://localhost:8080/"
        },
        "id": "7pfdZMUedw_4",
        "outputId": "fb74cf52-4449-4259-8bf7-0cf98ba0344e"
      },
      "execution_count": null,
      "outputs": [
        {
          "output_type": "stream",
          "name": "stdout",
          "text": [
            "CSV file saved: /content/drive/MyDrive/Movies_final /lower/df1_mergedl.csv\n",
            "CSV file saved: /content/drive/MyDrive/Movies_final /lower/df2_mergedl.csv\n",
            "CSV file saved: /content/drive/MyDrive/Movies_final /lower/df3_mergedl.csv\n",
            "CSV file saved: /content/drive/MyDrive/Movies_final /lower/df4_mergedl.csv\n",
            "CSV file saved: /content/drive/MyDrive/Movies_final /lower/df5_mergedl.csv\n",
            "CSV file saved: /content/drive/MyDrive/Movies_final /lower/df6_mergedl.csv\n",
            "CSV file saved: /content/drive/MyDrive/Movies_final /lower/df7_mergedl.csv\n",
            "CSV file saved: /content/drive/MyDrive/Movies_final /lower/df8_mergedl.csv\n",
            "CSV file saved: /content/drive/MyDrive/Movies_final /lower/df9_mergedl.csv\n",
            "CSV file saved: /content/drive/MyDrive/Movies_final /lower/df10_mergedl.csv\n",
            "CSV file saved: /content/drive/MyDrive/Movies_final /lower/df11_mergedl.csv\n",
            "CSV file saved: /content/drive/MyDrive/Movies_final /lower/df12_mergedl.csv\n",
            "CSV file saved: /content/drive/MyDrive/Movies_final /lower/df13_mergedl.csv\n",
            "CSV file saved: /content/drive/MyDrive/Movies_final /lower/df14_mergedl.csv\n",
            "CSV file saved: /content/drive/MyDrive/Movies_final /lower/df15_mergedl.csv\n",
            "CSV file saved: /content/drive/MyDrive/Movies_final /lower/df16_mergedl.csv\n",
            "CSV file saved: /content/drive/MyDrive/Movies_final /lower/df17_mergedl.csv\n",
            "CSV file saved: /content/drive/MyDrive/Movies_final /lower/df18_mergedl.csv\n",
            "CSV file saved: /content/drive/MyDrive/Movies_final /lower/df19_mergedl.csv\n",
            "CSV file saved: /content/drive/MyDrive/Movies_final /lower/df20_mergedl.csv\n",
            "CSV file saved: /content/drive/MyDrive/Movies_final /lower/df21_mergedl.csv\n",
            "CSV file saved: /content/drive/MyDrive/Movies_final /lower/df22_mergedl.csv\n",
            "CSV file saved: /content/drive/MyDrive/Movies_final /lower/df23_mergedl.csv\n",
            "CSV file saved: /content/drive/MyDrive/Movies_final /lower/df24_mergedl.csv\n",
            "CSV file saved: /content/drive/MyDrive/Movies_final /lower/df25_mergedl.csv\n",
            "CSV file saved: /content/drive/MyDrive/Movies_final /lower/df26_mergedl.csv\n",
            "CSV file saved: /content/drive/MyDrive/Movies_final /lower/df27_mergedl.csv\n",
            "CSV file saved: /content/drive/MyDrive/Movies_final /lower/df28_mergedl.csv\n",
            "CSV file saved: /content/drive/MyDrive/Movies_final /lower/df29_mergedl.csv\n",
            "CSV file saved: /content/drive/MyDrive/Movies_final /lower/df30_mergedl.csv\n"
          ]
        }
      ]
    },
    {
      "cell_type": "code",
      "source": [
        "target_folder_path = '/content/drive/MyDrive/Movies_final /middle'\n",
        "\n",
        "import os\n",
        "\n",
        "# Save each DataFrame as a CSV file in the Google Drive folder\n",
        "for i in middle_merged_clean:\n",
        "    submission3 = pd.DataFrame(middle_merged_clean[i])\n",
        "    csv_filename = f'{i}m.csv'\n",
        "    csv_filepath = os.path.join(target_folder_path, csv_filename)\n",
        "\n",
        "    # Save the DataFrame as a CSV file\n",
        "    submission3.to_csv(csv_filepath, index=False)\n",
        "\n",
        "    # Print the saved file path\n",
        "    print(f\"CSV file saved: {csv_filepath}\")"
      ],
      "metadata": {
        "colab": {
          "base_uri": "https://localhost:8080/"
        },
        "id": "ts6X4RDqrOni",
        "outputId": "197ce7f2-5d35-47c2-e6fa-33a766535bbc"
      },
      "execution_count": null,
      "outputs": [
        {
          "output_type": "stream",
          "name": "stdout",
          "text": [
            "CSV file saved: /content/drive/MyDrive/Movies_final /middle/df1_mergedm.csv\n",
            "CSV file saved: /content/drive/MyDrive/Movies_final /middle/df2_mergedm.csv\n",
            "CSV file saved: /content/drive/MyDrive/Movies_final /middle/df3_mergedm.csv\n",
            "CSV file saved: /content/drive/MyDrive/Movies_final /middle/df4_mergedm.csv\n",
            "CSV file saved: /content/drive/MyDrive/Movies_final /middle/df5_mergedm.csv\n",
            "CSV file saved: /content/drive/MyDrive/Movies_final /middle/df6_mergedm.csv\n",
            "CSV file saved: /content/drive/MyDrive/Movies_final /middle/df7_mergedm.csv\n",
            "CSV file saved: /content/drive/MyDrive/Movies_final /middle/df8_mergedm.csv\n",
            "CSV file saved: /content/drive/MyDrive/Movies_final /middle/df9_mergedm.csv\n",
            "CSV file saved: /content/drive/MyDrive/Movies_final /middle/df10_mergedm.csv\n",
            "CSV file saved: /content/drive/MyDrive/Movies_final /middle/df11_mergedm.csv\n",
            "CSV file saved: /content/drive/MyDrive/Movies_final /middle/df12_mergedm.csv\n",
            "CSV file saved: /content/drive/MyDrive/Movies_final /middle/df13_mergedm.csv\n",
            "CSV file saved: /content/drive/MyDrive/Movies_final /middle/df14_mergedm.csv\n",
            "CSV file saved: /content/drive/MyDrive/Movies_final /middle/df15_mergedm.csv\n",
            "CSV file saved: /content/drive/MyDrive/Movies_final /middle/df16_mergedm.csv\n",
            "CSV file saved: /content/drive/MyDrive/Movies_final /middle/df17_mergedm.csv\n",
            "CSV file saved: /content/drive/MyDrive/Movies_final /middle/df18_mergedm.csv\n",
            "CSV file saved: /content/drive/MyDrive/Movies_final /middle/df19_mergedm.csv\n",
            "CSV file saved: /content/drive/MyDrive/Movies_final /middle/df20_mergedm.csv\n",
            "CSV file saved: /content/drive/MyDrive/Movies_final /middle/df21_mergedm.csv\n",
            "CSV file saved: /content/drive/MyDrive/Movies_final /middle/df22_mergedm.csv\n",
            "CSV file saved: /content/drive/MyDrive/Movies_final /middle/df23_mergedm.csv\n",
            "CSV file saved: /content/drive/MyDrive/Movies_final /middle/df24_mergedm.csv\n",
            "CSV file saved: /content/drive/MyDrive/Movies_final /middle/df25_mergedm.csv\n",
            "CSV file saved: /content/drive/MyDrive/Movies_final /middle/df26_mergedm.csv\n",
            "CSV file saved: /content/drive/MyDrive/Movies_final /middle/df27_mergedm.csv\n",
            "CSV file saved: /content/drive/MyDrive/Movies_final /middle/df28_mergedm.csv\n",
            "CSV file saved: /content/drive/MyDrive/Movies_final /middle/df29_mergedm.csv\n",
            "CSV file saved: /content/drive/MyDrive/Movies_final /middle/df30_mergedm.csv\n"
          ]
        }
      ]
    },
    {
      "cell_type": "code",
      "source": [
        "from collections import Counter\n",
        "\n",
        "def emotion_pair(dic, num):\n",
        "    predicted_emotions = list(dic[num].emotion)\n",
        "    emotion_pairs = list(zip(predicted_emotions, predicted_emotions[1:]))\n",
        "    emotion_counts = Counter(emotion_pairs)\n",
        "    most_common_emotion_pairs = emotion_counts.most_common(3)\n",
        "    return most_common_emotion_pairs\n",
        "\n"
      ],
      "metadata": {
        "id": "4PjbkKVKjpk3"
      },
      "execution_count": null,
      "outputs": []
    },
    {
      "cell_type": "code",
      "source": [
        "emotion_pair(upper_merged_clean,'df15_merged')"
      ],
      "metadata": {
        "colab": {
          "base_uri": "https://localhost:8080/"
        },
        "id": "UUyEFXz2sDmR",
        "outputId": "b873750c-45d0-486d-9bc6-7943fa03c78a"
      },
      "execution_count": null,
      "outputs": [
        {
          "output_type": "execute_result",
          "data": {
            "text/plain": [
              "[(('anger', 'anger'), 11),\n",
              " (('neutral', 'anger'), 9),\n",
              " (('neutral', 'neutral'), 9)]"
            ]
          },
          "metadata": {},
          "execution_count": 121
        }
      ]
    },
    {
      "cell_type": "code",
      "source": [
        "from collections import Counter\n",
        "def emotion_counts(dic,num):\n",
        "\n",
        "    predicted_emotions = list(dic[num].emotion)\n",
        "    # Count the occurrences of consecutive emotion pairs\n",
        "    emotion_counts = Counter(zip(predicted_emotions, predicted_emotions[1:]))\n",
        "    return emotion_counts\n"
      ],
      "metadata": {
        "id": "Yii-rHVNlkb_"
      },
      "execution_count": null,
      "outputs": []
    },
    {
      "cell_type": "code",
      "source": [
        "emotion_counts(upper_merged_clean,'df15_merged')"
      ],
      "metadata": {
        "colab": {
          "base_uri": "https://localhost:8080/"
        },
        "id": "mA75CoASszfn",
        "outputId": "c266daad-8fc7-4a13-d1d2-5986b06b5b2b"
      },
      "execution_count": null,
      "outputs": [
        {
          "output_type": "execute_result",
          "data": {
            "text/plain": [
              "Counter({('joy', 'neutral'): 1,\n",
              "         ('neutral', 'curiosity'): 2,\n",
              "         ('curiosity', 'realization'): 1,\n",
              "         ('realization', 'gratitude'): 1,\n",
              "         ('gratitude', 'neutral'): 3,\n",
              "         ('neutral', 'anger'): 9,\n",
              "         ('anger', 'anger'): 11,\n",
              "         ('anger', 'gratitude'): 2,\n",
              "         ('gratitude', 'curiosity'): 1,\n",
              "         ('curiosity', 'sadness'): 1,\n",
              "         ('sadness', 'neutral'): 1,\n",
              "         ('neutral', 'neutral'): 9,\n",
              "         ('anger', 'neutral'): 9,\n",
              "         ('neutral', 'fear'): 1,\n",
              "         ('fear', 'neutral'): 1,\n",
              "         ('neutral', 'caring'): 1,\n",
              "         ('caring', 'confusion'): 1,\n",
              "         ('confusion', 'confusion'): 1,\n",
              "         ('confusion', 'neutral'): 1,\n",
              "         ('neutral', 'disappointment'): 1,\n",
              "         ('disappointment', 'neutral'): 1,\n",
              "         ('neutral', 'gratitude'): 2,\n",
              "         ('neutral', 'admiration'): 1,\n",
              "         ('admiration', 'joy'): 1,\n",
              "         ('joy', 'curiosity'): 1,\n",
              "         ('curiosity', 'annoyance'): 2,\n",
              "         ('annoyance', 'realization'): 1,\n",
              "         ('realization', 'caring'): 1,\n",
              "         ('caring', 'amusement'): 1,\n",
              "         ('amusement', 'neutral'): 1,\n",
              "         ('neutral', 'realization'): 1,\n",
              "         ('realization', 'anger'): 2,\n",
              "         ('anger', 'remorse'): 1,\n",
              "         ('remorse', 'sadness'): 1,\n",
              "         ('sadness', 'anger'): 2,\n",
              "         ('neutral', 'sadness'): 1,\n",
              "         ('anger', 'sadness'): 1,\n",
              "         ('sadness', 'curiosity'): 1,\n",
              "         ('annoyance', 'neutral'): 1,\n",
              "         ('anger', 'fear'): 1,\n",
              "         ('fear', 'approval'): 1,\n",
              "         ('approval', 'gratitude'): 1,\n",
              "         ('neutral', 'surprise'): 1,\n",
              "         ('surprise', 'anger'): 1,\n",
              "         ('anger', 'curiosity'): 1,\n",
              "         ('curiosity', 'optimism'): 1,\n",
              "         ('optimism', 'neutral'): 1,\n",
              "         ('curiosity', 'excitement'): 1,\n",
              "         ('excitement', 'anger'): 1,\n",
              "         ('anger', 'annoyance'): 1,\n",
              "         ('annoyance', 'annoyance'): 1,\n",
              "         ('annoyance', 'anger'): 2,\n",
              "         ('anger', 'amusement'): 1,\n",
              "         ('amusement', 'realization'): 1,\n",
              "         ('realization', 'neutral'): 1,\n",
              "         ('neutral', 'annoyance'): 1,\n",
              "         ('anger', 'joy'): 1,\n",
              "         ('joy', 'anger'): 1,\n",
              "         ('gratitude', 'anger'): 2,\n",
              "         ('neutral', 'love'): 1,\n",
              "         ('love', 'curiosity'): 1,\n",
              "         ('curiosity', 'neutral'): 1,\n",
              "         ('neutral', 'amusement'): 1,\n",
              "         ('amusement', 'nervousness'): 1,\n",
              "         ('nervousness', 'excitement'): 1,\n",
              "         ('excitement', 'approval'): 1,\n",
              "         ('approval', 'sadness'): 1,\n",
              "         ('sadness', 'gratitude'): 1,\n",
              "         ('gratitude', 'realization'): 1,\n",
              "         ('anger', 'admiration'): 1,\n",
              "         ('admiration', 'neutral'): 1,\n",
              "         ('anger', 'approval'): 1})"
            ]
          },
          "metadata": {},
          "execution_count": 123
        }
      ]
    },
    {
      "cell_type": "code",
      "source": [
        "import matplotlib.pyplot as plt\n",
        "\n",
        "def emo_pair_graph(dic,num):\n",
        "  # Extract emotion pairs and counts\n",
        "  emotion_pairs = [f\"{pair[0]} - {pair[1]}\" for pair in emotion_counts(dic,num).keys()]\n",
        "  counts = list(emotion_counts(dic,num).values())\n",
        "\n",
        "  # Create a bar graph\n",
        "  plt.figure(figsize=(10, 6))\n",
        "  plt.bar(emotion_pairs, counts)\n",
        "  plt.xlabel(f'Consecutive Emotion Pairs in {num}', fontsize=8)  # Adjust the fontsize as needed\n",
        "  plt.ylabel('Counts')\n",
        "  plt.title('Counts of Consecutive Emotion Pairs')\n",
        "\n",
        "  # Rotate x-axis labels vertically\n",
        "  plt.xticks(rotation=90, ha='center')\n",
        "\n",
        "  # Display the graph\n",
        "  plt.tight_layout()\n",
        "  plt.show()\n"
      ],
      "metadata": {
        "id": "urt9V6fUmCAn"
      },
      "execution_count": null,
      "outputs": []
    },
    {
      "cell_type": "code",
      "source": [
        "emo_pair_graph(upper_merged_clean,'df15_merged')"
      ],
      "metadata": {
        "colab": {
          "base_uri": "https://localhost:8080/",
          "height": 607
        },
        "id": "O8iNIFajs5Xh",
        "outputId": "76183e52-731c-4527-b5e9-61474296ba63"
      },
      "execution_count": null,
      "outputs": [
        {
          "output_type": "display_data",
          "data": {
            "text/plain": [
              "<Figure size 1000x600 with 1 Axes>"
            ],
            "image/png": "[encoded data removed]"
          },
          "metadata": {}
        }
      ]
    },
    {
      "cell_type": "code",
      "source": [
        "import matplotlib.pyplot as plt\n",
        "def emotion_time_graph(dic,num):\n",
        "  emotion_totals = dic[num].groupby('emotion')['TimeTaken'].sum()\n",
        "  plt.bar(emotion_totals.index, emotion_totals)\n",
        "  plt.xlabel('Emotion')\n",
        "  plt.ylabel('Total Time Taken')\n",
        "  plt.title('Total Time Taken by Emotion')\n",
        "  plt.xticks(rotation=90)\n",
        "  plt.show()"
      ],
      "metadata": {
        "id": "tNYX_Q5FyqtF"
      },
      "execution_count": null,
      "outputs": []
    },
    {
      "cell_type": "code",
      "source": [],
      "metadata": {
        "id": "pRQ_6kyGzEai"
      },
      "execution_count": null,
      "outputs": []
    }
  ]
}